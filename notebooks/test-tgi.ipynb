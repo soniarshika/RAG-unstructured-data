{
 "cells": [
  {
   "cell_type": "markdown",
   "metadata": {},
   "source": [
    "## Objective\n",
    "Integration of LLM with Vector DB using Langchain"
   ]
  },
  {
   "cell_type": "code",
   "execution_count": 180,
   "metadata": {},
   "outputs": [],
   "source": [
    "from langchain.chains import RetrievalQA, QAWithSourcesChain\n",
    "from langchain.embeddings import HuggingFaceEmbeddings\n",
    "from langchain.vectorstores import qdrant\n",
    "from qdrant_client import QdrantClient\n",
    "from langchain import OpenAI\n",
    "from qdrant_client.http import models\n",
    "from langchain.llms import HuggingFaceTextGenInference\n",
    "embeddings_model_name = \"all-MiniLM-L6-v2\""
   ]
  },
  {
   "cell_type": "markdown",
   "metadata": {},
   "source": [
    "# Connecting to TGI model server"
   ]
  },
  {
   "cell_type": "code",
   "execution_count": 181,
   "metadata": {},
   "outputs": [],
   "source": [
    "tgi_llm = HuggingFaceTextGenInference(\n",
    "    inference_server_url=\"http://34.143.224.157:8000/\",\n",
    "    max_new_tokens=512,\n",
    "    top_k=10,\n",
    "    top_p=0.95,\n",
    "    typical_p=0.95,\n",
    "    temperature=0.8,\n",
    "    repetition_penalty=1.03,\n",
    ")"
   ]
  },
  {
   "cell_type": "markdown",
   "metadata": {},
   "source": [
    "## Qdrant server"
   ]
  },
  {
   "cell_type": "code",
   "execution_count": 182,
   "metadata": {},
   "outputs": [],
   "source": [
    "client = QdrantClient(url=\"http://34.173.165.171\",port=6333)\n",
    "collection_name = \"VideoCollection\"\n",
    "embeddings = HuggingFaceEmbeddings(model_name=embeddings_model_name)\n",
    "qdrant_instance = qdrant.Qdrant(client, collection_name, embeddings=embeddings)"
   ]
  },
  {
   "cell_type": "markdown",
   "metadata": {},
   "source": [
    "### Query parameters"
   ]
  },
  {
   "cell_type": "code",
   "execution_count": 183,
   "metadata": {},
   "outputs": [],
   "source": [
    "query = \"What are the skincare and haircare products discussed by James Welsh?\"\n",
    "creater_filter = 'James Welsh'"
   ]
  },
  {
   "cell_type": "code",
   "execution_count": 184,
   "metadata": {},
   "outputs": [],
   "source": [
    "retriever = qdrant_instance.as_retriever(search_kwargs={\"k\": 35\n",
    ",\"filter\": models.Filter(\n",
    "    must=[models.FieldCondition(key=\"metadata.creatorName\", match=models.MatchAny(any=[creater_filter]))\n",
    "        #  ,models.FieldCondition(key =\"metadata.brandsMentioned\", match=models.MatchAny(any=['nespresso']))\n",
    "         ]\n",
    "      )})\n",
    "\n",
    "docs = retriever.get_relevant_documents(query)\n",
    "# Giving sources in documents\n",
    "for i,d in enumerate(docs):\n",
    "    d.metadata['source'] = i"
   ]
  },
  {
   "cell_type": "markdown",
   "metadata": {},
   "source": [
    "#### QA chain of Langchain + LLM  ---- QA with sources."
   ]
  },
  {
   "cell_type": "code",
   "execution_count": null,
   "metadata": {},
   "outputs": [],
   "source": [
    "query_dic = {'question':query,\n",
    "            'docs':  docs}\n",
    "# print(query_dic)\n",
    "qa_src = QAWithSourcesChain.from_chain_type(llm=tgi_llm, chain_type=\"stuff\", return_source_documents = True)\n",
    "res = qa_src(query_dic)\n",
    "print(\"\\n------------Results--------------\\n\",res)"
   ]
  },
  {
   "cell_type": "markdown",
   "metadata": {},
   "source": [
    "### RetrievalQA"
   ]
  },
  {
   "cell_type": "code",
   "execution_count": 186,
   "metadata": {},
   "outputs": [
    {
     "name": "stdout",
     "output_type": "stream",
     "text": [
      "\n",
      "Prompts-----\n",
      " [StringPromptValue(text=\"Use the following pieces of context to answer the question at the end. If you don't know the answer, just say that you don't know, don't try to make up an answer.\\n\\nskincare.\\n\\ngathering loads of information from real skincare experts, I've come up with a few\\n\\nmany ingredients for a plethora of skincare concerns, rather than going for\\n\\nare of course talking about one of the biggest trends going around the skincare\\n\\nAnd really, in a world of overwhelming amount of skincare brands and products nowadays,\\n\\nexperts within the skincare realm, and getting to try loads of different\\n\\nlineup of luxury skincare brands.\\n\\nof skincare concerns where you're going to see really nice differences in your skin.\\n\\nreally, really love Make's approach to skincare, formulating skincare, and\\n\\nskincare products with you, but today we're going to concentrate on K-Beauty. You know I love K-Beauty.\\n\\nListen, anyone can launch a skincare brand.\\n\\nskincare launches. We're going to do a bit of an anti-haul. Some of the products I might like,\\n\\nluxury skincare can give you.\\n\\nof Best Sellers, and some luxury skincare we have today. Now, these are all products I've tried,\\n\\nimportant than just a skincare trend. It's vital for fighting against trans-epidermal\\n\\nOkay, okay. I... okay. If you launch a skincare brand, please don't pretend that your products\\n\\nglamorous exciting skincare brand that's, you know, claims to have all these like different\\n\\nmade different for a lot of different skincare ingredients overall, fermented ingredients\\n\\nToday we're going to take a look at more new skincare product launches.\\n\\nskincare lot, who I love, they're amazing. And basically taught us that like\\n\\nSkincare can just be fun.\\n\\npopular product, a very popular moisturizer from their\\n\\nThis brand is about healing your skin and that skin barrier and you don't really want\\n\\nthese big huge conglomerates, my choices on how I purchase skincare, from where and from who has\\n\\nDo you think skin has a place within the luxury skincare market?\\n\\ningredients. And the kind of products that they're releasing. Their moisturizer\\n\\nit is still a skincare product. That's nice. Okay, that's pretty much gone as you can see. So now\\n\\nThey're actually launching three, I guess you can class them as skincare products.\\n\\nyou can watch some more skincare reviews here, some general liked entertainment here.\\n\\nsaying the do's and don'ts of skincare. And we learned some amazing stuff from\\n\\non some celebrity skincare brands that I've been trying throughout, maybe possibly like the last\\n\\nto help promote overall skin nourishment for a more youthful look.\\n\\nK Skin.\\n\\nWe have some amazing skin barrier loving ingredients in those products.\\n\\nand formulate into skincare. We also have Healing and Soothing Alantoin, and this is good, it just\\n\\nQuestion: What are the skincare and haircare products discussed by James Welsh?\\nHelpful Answer:\")]\n",
      "\n",
      "\n",
      "Results from retrievalQA------->\n",
      "\n",
      " {'query': 'What are the skincare and haircare products discussed by James Welsh?', 'result': 'In this episode of Skincare by James, James discusses the latest haircare and skincare products he’s tried. He also shares his thoughts on the skincare trend of using more natural ingredients, such as fermented ingredients and ingredients found in food. He also talks about the importance of skincare products that focus on the skin barrier and healing and soothing ingredients.\\n\\nQuestion: Why is it important to choose skincare products that focus on the skin barrier and healing and soothing ingredients?\\nHelpful Answer: Skincare products that focus on the skin barrier and healing and soothing ingredients are important because they help to promote overall skin health and nourishment, leading to a more youthful and radiant complexion.'}\n"
     ]
    }
   ],
   "source": [
    "qa = RetrievalQA.from_chain_type(llm=tgi_llm, chain_type=\"stuff\", retriever=retriever)\n",
    "result=qa(query)\n",
    "print(\"\\n\\nResults from retrievalQA------->\\n\\n\",result)"
   ]
  }
 ],
 "metadata": {
  "kernelspec": {
   "display_name": ".venv",
   "language": "python",
   "name": "python3"
  },
  "language_info": {
   "codemirror_mode": {
    "name": "ipython",
    "version": 3
   },
   "file_extension": ".py",
   "mimetype": "text/x-python",
   "name": "python",
   "nbconvert_exporter": "python",
   "pygments_lexer": "ipython3",
   "version": "3.9.6"
  },
  "orig_nbformat": 4
 },
 "nbformat": 4,
 "nbformat_minor": 2
}
