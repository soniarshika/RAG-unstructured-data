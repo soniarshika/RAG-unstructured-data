{
 "cells": [
  {
   "cell_type": "code",
   "execution_count": 2,
   "metadata": {},
   "outputs": [],
   "source": [
    "EMBEDDINGS_MODEL_NAME = 'all-MiniLM-L6-v2'"
   ]
  },
  {
   "cell_type": "code",
   "execution_count": 5,
   "metadata": {},
   "outputs": [
    {
     "name": "stdout",
     "output_type": "stream",
     "text": [
      "Collecting langchain\n",
      "  Using cached langchain-0.0.322-py3-none-any.whl.metadata (15 kB)\n",
      "Requirement already satisfied: PyYAML>=5.3 in ./.venv/lib/python3.9/site-packages (from langchain) (6.0.1)\n",
      "Collecting SQLAlchemy<3,>=1.4 (from langchain)\n",
      "  Using cached SQLAlchemy-2.0.22-cp39-cp39-macosx_11_0_arm64.whl.metadata (9.4 kB)\n",
      "Collecting aiohttp<4.0.0,>=3.8.3 (from langchain)\n",
      "  Using cached aiohttp-3.8.6-cp39-cp39-macosx_11_0_arm64.whl.metadata (7.7 kB)\n",
      "Collecting anyio<4.0 (from langchain)\n",
      "  Using cached anyio-3.7.1-py3-none-any.whl.metadata (4.7 kB)\n",
      "Collecting async-timeout<5.0.0,>=4.0.0 (from langchain)\n",
      "  Using cached async_timeout-4.0.3-py3-none-any.whl.metadata (4.2 kB)\n",
      "Collecting dataclasses-json<0.7,>=0.5.7 (from langchain)\n",
      "  Using cached dataclasses_json-0.6.1-py3-none-any.whl.metadata (24 kB)\n",
      "Collecting jsonpatch<2.0,>=1.33 (from langchain)\n",
      "  Using cached jsonpatch-1.33-py2.py3-none-any.whl.metadata (3.0 kB)\n",
      "Collecting langsmith<0.1.0,>=0.0.43 (from langchain)\n",
      "  Using cached langsmith-0.0.51-py3-none-any.whl.metadata (10 kB)\n",
      "Requirement already satisfied: numpy<2,>=1 in ./.venv/lib/python3.9/site-packages (from langchain) (1.26.1)\n",
      "Collecting pydantic<3,>=1 (from langchain)\n",
      "  Using cached pydantic-2.4.2-py3-none-any.whl.metadata (158 kB)\n",
      "Requirement already satisfied: requests<3,>=2 in ./.venv/lib/python3.9/site-packages (from langchain) (2.31.0)\n",
      "Collecting tenacity<9.0.0,>=8.1.0 (from langchain)\n",
      "  Using cached tenacity-8.2.3-py3-none-any.whl.metadata (1.0 kB)\n",
      "Collecting attrs>=17.3.0 (from aiohttp<4.0.0,>=3.8.3->langchain)\n",
      "  Using cached attrs-23.1.0-py3-none-any.whl (61 kB)\n",
      "Requirement already satisfied: charset-normalizer<4.0,>=2.0 in ./.venv/lib/python3.9/site-packages (from aiohttp<4.0.0,>=3.8.3->langchain) (3.3.1)\n",
      "Collecting multidict<7.0,>=4.5 (from aiohttp<4.0.0,>=3.8.3->langchain)\n",
      "  Using cached multidict-6.0.4-cp39-cp39-macosx_11_0_arm64.whl (29 kB)\n",
      "Collecting yarl<2.0,>=1.0 (from aiohttp<4.0.0,>=3.8.3->langchain)\n",
      "  Using cached yarl-1.9.2-cp39-cp39-macosx_11_0_arm64.whl (62 kB)\n",
      "Collecting frozenlist>=1.1.1 (from aiohttp<4.0.0,>=3.8.3->langchain)\n",
      "  Using cached frozenlist-1.4.0-cp39-cp39-macosx_11_0_arm64.whl.metadata (5.2 kB)\n",
      "Collecting aiosignal>=1.1.2 (from aiohttp<4.0.0,>=3.8.3->langchain)\n",
      "  Using cached aiosignal-1.3.1-py3-none-any.whl (7.6 kB)\n",
      "Requirement already satisfied: idna>=2.8 in ./.venv/lib/python3.9/site-packages (from anyio<4.0->langchain) (3.4)\n",
      "Collecting sniffio>=1.1 (from anyio<4.0->langchain)\n",
      "  Using cached sniffio-1.3.0-py3-none-any.whl (10 kB)\n",
      "Requirement already satisfied: exceptiongroup in ./.venv/lib/python3.9/site-packages (from anyio<4.0->langchain) (1.1.3)\n",
      "Collecting marshmallow<4.0.0,>=3.18.0 (from dataclasses-json<0.7,>=0.5.7->langchain)\n",
      "  Using cached marshmallow-3.20.1-py3-none-any.whl.metadata (7.8 kB)\n",
      "Collecting typing-inspect<1,>=0.4.0 (from dataclasses-json<0.7,>=0.5.7->langchain)\n",
      "  Using cached typing_inspect-0.9.0-py3-none-any.whl.metadata (1.5 kB)\n",
      "Collecting jsonpointer>=1.9 (from jsonpatch<2.0,>=1.33->langchain)\n",
      "  Using cached jsonpointer-2.4-py2.py3-none-any.whl.metadata (2.5 kB)\n",
      "Collecting annotated-types>=0.4.0 (from pydantic<3,>=1->langchain)\n",
      "  Using cached annotated_types-0.6.0-py3-none-any.whl.metadata (12 kB)\n",
      "Collecting pydantic-core==2.10.1 (from pydantic<3,>=1->langchain)\n",
      "  Using cached pydantic_core-2.10.1-cp39-cp39-macosx_11_0_arm64.whl.metadata (6.5 kB)\n",
      "Requirement already satisfied: typing-extensions>=4.6.1 in ./.venv/lib/python3.9/site-packages (from pydantic<3,>=1->langchain) (4.8.0)\n",
      "Requirement already satisfied: urllib3<3,>=1.21.1 in ./.venv/lib/python3.9/site-packages (from requests<3,>=2->langchain) (2.0.7)\n",
      "Requirement already satisfied: certifi>=2017.4.17 in ./.venv/lib/python3.9/site-packages (from requests<3,>=2->langchain) (2023.7.22)\n",
      "Requirement already satisfied: packaging>=17.0 in ./.venv/lib/python3.9/site-packages (from marshmallow<4.0.0,>=3.18.0->dataclasses-json<0.7,>=0.5.7->langchain) (23.2)\n",
      "Collecting mypy-extensions>=0.3.0 (from typing-inspect<1,>=0.4.0->dataclasses-json<0.7,>=0.5.7->langchain)\n",
      "  Using cached mypy_extensions-1.0.0-py3-none-any.whl (4.7 kB)\n",
      "Using cached langchain-0.0.322-py3-none-any.whl (1.9 MB)\n",
      "Using cached aiohttp-3.8.6-cp39-cp39-macosx_11_0_arm64.whl (349 kB)\n",
      "Using cached anyio-3.7.1-py3-none-any.whl (80 kB)\n",
      "Using cached async_timeout-4.0.3-py3-none-any.whl (5.7 kB)\n",
      "Using cached dataclasses_json-0.6.1-py3-none-any.whl (27 kB)\n",
      "Using cached jsonpatch-1.33-py2.py3-none-any.whl (12 kB)\n",
      "Using cached langsmith-0.0.51-py3-none-any.whl (41 kB)\n",
      "Using cached pydantic-2.4.2-py3-none-any.whl (395 kB)\n",
      "Using cached pydantic_core-2.10.1-cp39-cp39-macosx_11_0_arm64.whl (1.7 MB)\n",
      "Using cached SQLAlchemy-2.0.22-cp39-cp39-macosx_11_0_arm64.whl (2.0 MB)\n",
      "Using cached tenacity-8.2.3-py3-none-any.whl (24 kB)\n",
      "Using cached annotated_types-0.6.0-py3-none-any.whl (12 kB)\n",
      "Using cached frozenlist-1.4.0-cp39-cp39-macosx_11_0_arm64.whl (46 kB)\n",
      "Using cached jsonpointer-2.4-py2.py3-none-any.whl (7.8 kB)\n",
      "Using cached marshmallow-3.20.1-py3-none-any.whl (49 kB)\n",
      "Using cached typing_inspect-0.9.0-py3-none-any.whl (8.8 kB)\n",
      "Installing collected packages: tenacity, SQLAlchemy, sniffio, pydantic-core, mypy-extensions, multidict, marshmallow, jsonpointer, frozenlist, attrs, async-timeout, annotated-types, yarl, typing-inspect, pydantic, jsonpatch, anyio, aiosignal, langsmith, dataclasses-json, aiohttp, langchain\n",
      "Successfully installed SQLAlchemy-2.0.22 aiohttp-3.8.6 aiosignal-1.3.1 annotated-types-0.6.0 anyio-3.7.1 async-timeout-4.0.3 attrs-23.1.0 dataclasses-json-0.6.1 frozenlist-1.4.0 jsonpatch-1.33 jsonpointer-2.4 langchain-0.0.322 langsmith-0.0.51 marshmallow-3.20.1 multidict-6.0.4 mypy-extensions-1.0.0 pydantic-2.4.2 pydantic-core-2.10.1 sniffio-1.3.0 tenacity-8.2.3 typing-inspect-0.9.0 yarl-1.9.2\n",
      "Requirement already satisfied: sentence_transformers in ./.venv/lib/python3.9/site-packages (2.2.2)\n",
      "Requirement already satisfied: transformers<5.0.0,>=4.6.0 in ./.venv/lib/python3.9/site-packages (from sentence_transformers) (4.34.1)\n",
      "Requirement already satisfied: tqdm in ./.venv/lib/python3.9/site-packages (from sentence_transformers) (4.66.1)\n",
      "Requirement already satisfied: torch>=1.6.0 in ./.venv/lib/python3.9/site-packages (from sentence_transformers) (2.1.0)\n",
      "Requirement already satisfied: torchvision in ./.venv/lib/python3.9/site-packages (from sentence_transformers) (0.16.0)\n",
      "Requirement already satisfied: numpy in ./.venv/lib/python3.9/site-packages (from sentence_transformers) (1.26.1)\n",
      "Requirement already satisfied: scikit-learn in ./.venv/lib/python3.9/site-packages (from sentence_transformers) (1.3.2)\n",
      "Requirement already satisfied: scipy in ./.venv/lib/python3.9/site-packages (from sentence_transformers) (1.11.3)\n",
      "Requirement already satisfied: nltk in ./.venv/lib/python3.9/site-packages (from sentence_transformers) (3.8.1)\n",
      "Requirement already satisfied: sentencepiece in ./.venv/lib/python3.9/site-packages (from sentence_transformers) (0.1.99)\n",
      "Requirement already satisfied: huggingface-hub>=0.4.0 in ./.venv/lib/python3.9/site-packages (from sentence_transformers) (0.17.3)\n",
      "Requirement already satisfied: filelock in ./.venv/lib/python3.9/site-packages (from huggingface-hub>=0.4.0->sentence_transformers) (3.12.4)\n",
      "Requirement already satisfied: fsspec in ./.venv/lib/python3.9/site-packages (from huggingface-hub>=0.4.0->sentence_transformers) (2023.10.0)\n",
      "Requirement already satisfied: requests in ./.venv/lib/python3.9/site-packages (from huggingface-hub>=0.4.0->sentence_transformers) (2.31.0)\n",
      "Requirement already satisfied: pyyaml>=5.1 in ./.venv/lib/python3.9/site-packages (from huggingface-hub>=0.4.0->sentence_transformers) (6.0.1)\n",
      "Requirement already satisfied: typing-extensions>=3.7.4.3 in ./.venv/lib/python3.9/site-packages (from huggingface-hub>=0.4.0->sentence_transformers) (4.8.0)\n",
      "Requirement already satisfied: packaging>=20.9 in ./.venv/lib/python3.9/site-packages (from huggingface-hub>=0.4.0->sentence_transformers) (23.2)\n",
      "Requirement already satisfied: sympy in ./.venv/lib/python3.9/site-packages (from torch>=1.6.0->sentence_transformers) (1.12)\n",
      "Requirement already satisfied: networkx in ./.venv/lib/python3.9/site-packages (from torch>=1.6.0->sentence_transformers) (3.2)\n",
      "Requirement already satisfied: jinja2 in ./.venv/lib/python3.9/site-packages (from torch>=1.6.0->sentence_transformers) (3.1.2)\n",
      "Requirement already satisfied: regex!=2019.12.17 in ./.venv/lib/python3.9/site-packages (from transformers<5.0.0,>=4.6.0->sentence_transformers) (2023.10.3)\n",
      "Requirement already satisfied: tokenizers<0.15,>=0.14 in ./.venv/lib/python3.9/site-packages (from transformers<5.0.0,>=4.6.0->sentence_transformers) (0.14.1)\n",
      "Requirement already satisfied: safetensors>=0.3.1 in ./.venv/lib/python3.9/site-packages (from transformers<5.0.0,>=4.6.0->sentence_transformers) (0.4.0)\n",
      "Requirement already satisfied: click in ./.venv/lib/python3.9/site-packages (from nltk->sentence_transformers) (8.1.7)\n",
      "Requirement already satisfied: joblib in ./.venv/lib/python3.9/site-packages (from nltk->sentence_transformers) (1.3.2)\n",
      "Requirement already satisfied: threadpoolctl>=2.0.0 in ./.venv/lib/python3.9/site-packages (from scikit-learn->sentence_transformers) (3.2.0)\n",
      "Requirement already satisfied: pillow!=8.3.*,>=5.3.0 in ./.venv/lib/python3.9/site-packages (from torchvision->sentence_transformers) (10.1.0)\n",
      "Requirement already satisfied: MarkupSafe>=2.0 in ./.venv/lib/python3.9/site-packages (from jinja2->torch>=1.6.0->sentence_transformers) (2.1.3)\n",
      "Requirement already satisfied: charset-normalizer<4,>=2 in ./.venv/lib/python3.9/site-packages (from requests->huggingface-hub>=0.4.0->sentence_transformers) (3.3.1)\n",
      "Requirement already satisfied: idna<4,>=2.5 in ./.venv/lib/python3.9/site-packages (from requests->huggingface-hub>=0.4.0->sentence_transformers) (3.4)\n",
      "Requirement already satisfied: urllib3<3,>=1.21.1 in ./.venv/lib/python3.9/site-packages (from requests->huggingface-hub>=0.4.0->sentence_transformers) (2.0.7)\n",
      "Requirement already satisfied: certifi>=2017.4.17 in ./.venv/lib/python3.9/site-packages (from requests->huggingface-hub>=0.4.0->sentence_transformers) (2023.7.22)\n",
      "Requirement already satisfied: mpmath>=0.19 in ./.venv/lib/python3.9/site-packages (from sympy->torch>=1.6.0->sentence_transformers) (1.3.0)\n"
     ]
    }
   ],
   "source": [
    "!python3.9 -m pip install langchain\n",
    "!python -m pip install sentence_transformers"
   ]
  },
  {
   "cell_type": "code",
   "execution_count": 6,
   "metadata": {},
   "outputs": [
    {
     "name": "stderr",
     "output_type": "stream",
     "text": [
      "/Users/Arshika/Visual studio code/vector-db/.venv/lib/python3.9/site-packages/urllib3/__init__.py:34: NotOpenSSLWarning: urllib3 v2.0 only supports OpenSSL 1.1.1+, currently the 'ssl' module is compiled with 'LibreSSL 2.8.3'. See: https://github.com/urllib3/urllib3/issues/3020\n",
      "  warnings.warn(\n"
     ]
    }
   ],
   "source": [
    "from langchain.embeddings import HuggingFaceEmbeddings"
   ]
  },
  {
   "cell_type": "code",
   "execution_count": 7,
   "metadata": {},
   "outputs": [
    {
     "name": "stderr",
     "output_type": "stream",
     "text": [
      "/Users/Arshika/Visual studio code/vector-db/.venv/lib/python3.9/site-packages/tqdm/auto.py:21: TqdmWarning: IProgress not found. Please update jupyter and ipywidgets. See https://ipywidgets.readthedocs.io/en/stable/user_install.html\n",
      "  from .autonotebook import tqdm as notebook_tqdm\n"
     ]
    }
   ],
   "source": [
    "embeddings = HuggingFaceEmbeddings(model_name=EMBEDDINGS_MODEL_NAME)"
   ]
  },
  {
   "attachments": {},
   "cell_type": "markdown",
   "metadata": {},
   "source": [
    "# Sample Data"
   ]
  },
  {
   "cell_type": "code",
   "execution_count": 8,
   "metadata": {},
   "outputs": [],
   "source": [
    "import json\n",
    "data_json = None\n",
    "with open('data/sample.json', 'r') as jf:\n",
    "    data_json = json.load(jf)"
   ]
  },
  {
   "cell_type": "code",
   "execution_count": 11,
   "metadata": {},
   "outputs": [
    {
     "name": "stdout",
     "output_type": "stream",
     "text": [
      "Collecting jq\n",
      "\u001b[33m  WARNING: Retrying (Retry(total=4, connect=None, read=None, redirect=None, status=None)) after connection broken by 'ReadTimeoutError(\"HTTPSConnectionPool(host='files.pythonhosted.org', port=443): Read timed out. (read timeout=15)\")': /packages/e1/33/24d7225c07266e377e7f8a69c57c5ea1a8c9011922abf2e5d07bee21eef1/jq-1.6.0-cp39-cp39-macosx_11_0_arm64.whl.metadata\u001b[0m\u001b[33m\n",
      "\u001b[0m  Downloading jq-1.6.0-cp39-cp39-macosx_11_0_arm64.whl.metadata (6.8 kB)\n",
      "Downloading jq-1.6.0-cp39-cp39-macosx_11_0_arm64.whl (411 kB)\n",
      "\u001b[2K   \u001b[90m━━━━━━━━━━━━━━━━━━━━━━━━━━━━━━━━━━━━━━━━\u001b[0m \u001b[32m411.1/411.1 kB\u001b[0m \u001b[31m5.5 MB/s\u001b[0m eta \u001b[36m0:00:00\u001b[0ma \u001b[36m0:00:01\u001b[0m\n",
      "\u001b[?25hInstalling collected packages: jq\n",
      "Successfully installed jq-1.6.0\n"
     ]
    }
   ],
   "source": [
    "!pip install jq"
   ]
  },
  {
   "cell_type": "code",
   "execution_count": 12,
   "metadata": {},
   "outputs": [],
   "source": [
    "from vedio_data_json_loader import VideoDataJsonLoader\n",
    "loader = VideoDataJsonLoader(data_json)"
   ]
  },
  {
   "attachments": {},
   "cell_type": "markdown",
   "metadata": {},
   "source": [
    "## Qdrant"
   ]
  },
  {
   "cell_type": "code",
   "execution_count": 13,
   "metadata": {},
   "outputs": [],
   "source": [
    "from langchain.vectorstores import Qdrant"
   ]
  },
  {
   "cell_type": "code",
   "execution_count": 14,
   "metadata": {},
   "outputs": [],
   "source": [
    "docs = loader.load()"
   ]
  },
  {
   "cell_type": "code",
   "execution_count": 15,
   "metadata": {},
   "outputs": [
    {
     "name": "stdout",
     "output_type": "stream",
     "text": [
      "286 client=SentenceTransformer(\n",
      "  (0): Transformer({'max_seq_length': 256, 'do_lower_case': False}) with Transformer model: BertModel \n",
      "  (1): Pooling({'word_embedding_dimension': 384, 'pooling_mode_cls_token': False, 'pooling_mode_mean_tokens': True, 'pooling_mode_max_tokens': False, 'pooling_mode_mean_sqrt_len_tokens': False})\n",
      "  (2): Normalize()\n",
      ") model_name='all-MiniLM-L6-v2' cache_folder=None model_kwargs={} encode_kwargs={} multi_process=False\n"
     ]
    }
   ],
   "source": [
    "print(len(docs), embeddings)"
   ]
  },
  {
   "cell_type": "code",
   "execution_count": 16,
   "metadata": {},
   "outputs": [
    {
     "name": "stdout",
     "output_type": "stream",
     "text": [
      "\u001b[33mWARNING: Retrying (Retry(total=4, connect=None, read=None, redirect=None, status=None)) after connection broken by 'ReadTimeoutError(\"HTTPSConnectionPool(host='pypi.org', port=443): Read timed out. (read timeout=15)\")': /simple/qdrant-client/\u001b[0m\u001b[33m\n",
      "\u001b[0mCollecting qdrant_client\n",
      "  Downloading qdrant_client-1.6.3-py3-none-any.whl.metadata (9.0 kB)\n",
      "Collecting grpcio>=1.41.0 (from qdrant_client)\n",
      "  Downloading grpcio-1.59.0-cp39-cp39-macosx_10_10_universal2.whl.metadata (4.0 kB)\n",
      "Collecting grpcio-tools>=1.41.0 (from qdrant_client)\n",
      "  Downloading grpcio_tools-1.59.0-cp39-cp39-macosx_10_10_universal2.whl.metadata (6.2 kB)\n",
      "Collecting httpx>=0.14.0 (from httpx[http2]>=0.14.0->qdrant_client)\n",
      "  Using cached httpx-0.25.0-py3-none-any.whl.metadata (7.6 kB)\n",
      "Requirement already satisfied: numpy>=1.21 in ./.venv/lib/python3.9/site-packages (from qdrant_client) (1.26.1)\n",
      "Collecting portalocker<3.0.0,>=2.7.0 (from qdrant_client)\n",
      "  Using cached portalocker-2.8.2-py3-none-any.whl.metadata (8.5 kB)\n",
      "Requirement already satisfied: pydantic>=1.10.8 in ./.venv/lib/python3.9/site-packages (from qdrant_client) (2.4.2)\n",
      "Collecting urllib3<2.0.0,>=1.26.14 (from qdrant_client)\n",
      "  Downloading urllib3-1.26.18-py2.py3-none-any.whl.metadata (48 kB)\n",
      "\u001b[2K     \u001b[90m━━━━━━━━━━━━━━━━━━━━━━━━━━━━━━━━━━━━━━━\u001b[0m \u001b[32m48.9/48.9 kB\u001b[0m \u001b[31m915.4 kB/s\u001b[0m eta \u001b[36m0:00:00\u001b[0m \u001b[36m0:00:01\u001b[0m\n",
      "\u001b[?25hCollecting protobuf<5.0dev,>=4.21.6 (from grpcio-tools>=1.41.0->qdrant_client)\n",
      "  Using cached protobuf-4.24.4-cp37-abi3-macosx_10_9_universal2.whl.metadata (540 bytes)\n",
      "Requirement already satisfied: setuptools in ./.venv/lib/python3.9/site-packages (from grpcio-tools>=1.41.0->qdrant_client) (58.0.4)\n",
      "Requirement already satisfied: certifi in ./.venv/lib/python3.9/site-packages (from httpx>=0.14.0->httpx[http2]>=0.14.0->qdrant_client) (2023.7.22)\n",
      "Collecting httpcore<0.19.0,>=0.18.0 (from httpx>=0.14.0->httpx[http2]>=0.14.0->qdrant_client)\n",
      "  Using cached httpcore-0.18.0-py3-none-any.whl.metadata (18 kB)\n",
      "Requirement already satisfied: idna in ./.venv/lib/python3.9/site-packages (from httpx>=0.14.0->httpx[http2]>=0.14.0->qdrant_client) (3.4)\n",
      "Requirement already satisfied: sniffio in ./.venv/lib/python3.9/site-packages (from httpx>=0.14.0->httpx[http2]>=0.14.0->qdrant_client) (1.3.0)\n",
      "Collecting h2<5,>=3 (from httpx[http2]>=0.14.0->qdrant_client)\n",
      "  Downloading h2-4.1.0-py3-none-any.whl (57 kB)\n",
      "\u001b[2K     \u001b[90m━━━━━━━━━━━━━━━━━━━━━━━━━━━━━━━━━━━━━━━━\u001b[0m \u001b[32m57.5/57.5 kB\u001b[0m \u001b[31m1.1 MB/s\u001b[0m eta \u001b[36m0:00:00\u001b[0ma \u001b[36m0:00:01\u001b[0m\n",
      "\u001b[?25hRequirement already satisfied: annotated-types>=0.4.0 in ./.venv/lib/python3.9/site-packages (from pydantic>=1.10.8->qdrant_client) (0.6.0)\n",
      "Requirement already satisfied: pydantic-core==2.10.1 in ./.venv/lib/python3.9/site-packages (from pydantic>=1.10.8->qdrant_client) (2.10.1)\n",
      "Requirement already satisfied: typing-extensions>=4.6.1 in ./.venv/lib/python3.9/site-packages (from pydantic>=1.10.8->qdrant_client) (4.8.0)\n",
      "Collecting hyperframe<7,>=6.0 (from h2<5,>=3->httpx[http2]>=0.14.0->qdrant_client)\n",
      "  Downloading hyperframe-6.0.1-py3-none-any.whl (12 kB)\n",
      "Collecting hpack<5,>=4.0 (from h2<5,>=3->httpx[http2]>=0.14.0->qdrant_client)\n",
      "  Downloading hpack-4.0.0-py3-none-any.whl (32 kB)\n",
      "Requirement already satisfied: anyio<5.0,>=3.0 in ./.venv/lib/python3.9/site-packages (from httpcore<0.19.0,>=0.18.0->httpx>=0.14.0->httpx[http2]>=0.14.0->qdrant_client) (3.7.1)\n",
      "Collecting h11<0.15,>=0.13 (from httpcore<0.19.0,>=0.18.0->httpx>=0.14.0->httpx[http2]>=0.14.0->qdrant_client)\n",
      "  Using cached h11-0.14.0-py3-none-any.whl (58 kB)\n",
      "Requirement already satisfied: exceptiongroup in ./.venv/lib/python3.9/site-packages (from anyio<5.0,>=3.0->httpcore<0.19.0,>=0.18.0->httpx>=0.14.0->httpx[http2]>=0.14.0->qdrant_client) (1.1.3)\n",
      "Downloading qdrant_client-1.6.3-py3-none-any.whl (176 kB)\n",
      "\u001b[2K   \u001b[90m━━━━━━━━━━━━━━━━━━━━━━━━━━━━━━━━━━━━━━━\u001b[0m \u001b[32m176.7/176.7 kB\u001b[0m \u001b[31m948.2 kB/s\u001b[0m eta \u001b[36m0:00:00\u001b[0ma \u001b[36m0:00:01\u001b[0m\n",
      "\u001b[?25hDownloading grpcio-1.59.0-cp39-cp39-macosx_10_10_universal2.whl (9.6 MB)\n",
      "\u001b[2K   \u001b[90m━━━━━━━━━━━━━━━━━━━━━━━━━━━━━━━━━━━━━━━━\u001b[0m \u001b[32m9.6/9.6 MB\u001b[0m \u001b[31m1.1 MB/s\u001b[0m eta \u001b[36m0:00:00\u001b[0m00:01\u001b[0m00:01\u001b[0m0m\n",
      "\u001b[?25hDownloading grpcio_tools-1.59.0-cp39-cp39-macosx_10_10_universal2.whl (4.9 MB)\n",
      "\u001b[2K   \u001b[90m━━━━━━━━━━━━━━━━━━━━━━━━━━━━━━━━━━━━━━━━\u001b[0m \u001b[32m4.9/4.9 MB\u001b[0m \u001b[31m884.3 kB/s\u001b[0m eta \u001b[36m0:00:00\u001b[0m00:01\u001b[0m00:01\u001b[0m\n",
      "\u001b[?25hUsing cached httpx-0.25.0-py3-none-any.whl (75 kB)\n",
      "Using cached portalocker-2.8.2-py3-none-any.whl (17 kB)\n",
      "Downloading urllib3-1.26.18-py2.py3-none-any.whl (143 kB)\n",
      "\u001b[2K   \u001b[90m━━━━━━━━━━━━━━━━━━━━━━━━━━━━━━━━━━━━━━━━\u001b[0m \u001b[32m143.8/143.8 kB\u001b[0m \u001b[31m1.3 MB/s\u001b[0m eta \u001b[36m0:00:00\u001b[0m \u001b[36m0:00:01\u001b[0m\n",
      "\u001b[?25hUsing cached httpcore-0.18.0-py3-none-any.whl (76 kB)\n",
      "Using cached protobuf-4.24.4-cp37-abi3-macosx_10_9_universal2.whl (409 kB)\n",
      "Installing collected packages: urllib3, protobuf, portalocker, hyperframe, hpack, h11, grpcio, httpcore, h2, grpcio-tools, httpx, qdrant_client\n",
      "  Attempting uninstall: urllib3\n",
      "    Found existing installation: urllib3 2.0.7\n",
      "    Uninstalling urllib3-2.0.7:\n",
      "      Successfully uninstalled urllib3-2.0.7\n",
      "Successfully installed grpcio-1.59.0 grpcio-tools-1.59.0 h11-0.14.0 h2-4.1.0 hpack-4.0.0 httpcore-0.18.0 httpx-0.25.0 hyperframe-6.0.1 portalocker-2.8.2 protobuf-4.24.4 qdrant_client-1.6.3 urllib3-1.26.18\n"
     ]
    }
   ],
   "source": [
    "!pip install qdrant_client"
   ]
  },
  {
   "cell_type": "code",
   "execution_count": 18,
   "metadata": {},
   "outputs": [],
   "source": [
    "url = \"http://localhost:6333\"\n",
    "qdrant = Qdrant.from_documents(\n",
    "    docs,\n",
    "    embeddings,\n",
    "    url=url,\n",
    "    collection_name=\"VidCollection\",\n",
    "    force_recreate=True\n",
    ")"
   ]
  },
  {
   "cell_type": "code",
   "execution_count": 19,
   "metadata": {},
   "outputs": [],
   "source": [
    "query = \"What all things are there in skincare and beauty\"\n",
    "hits = qdrant.similarity_search_with_relevance_scores(query, k=100)"
   ]
  },
  {
   "cell_type": "code",
   "execution_count": 20,
   "metadata": {},
   "outputs": [
    {
     "name": "stdout",
     "output_type": "stream",
     "text": [
      "Ali Andreea: It has a skincare like good skincare ingredients and it will just give you that beautiful glow without adding any coverage. (63e648093e5488454d0244c3/66) - (0.55286235)\n",
      "Ali Andreea: But if you guys are not sure, please check out my description box where you will have every single product linked along with the colors that correspond to my skin. (63e648093e5488454d0244c3/50) - (0.52985203)\n",
      "Ali Andreea: My far number one blush for me, it has to be the Persona Cosmetics. They have my heart. (63e648093e5488454d0244c3/101) - (0.5286913)\n",
      "Ali Andreea: I strongly recommend you the Makeup Forever HD skin as well. (63e648093e5488454d0244c3/33) - (0.5278668)\n",
      "Ali Andreea: It's like burnt cheeks like you've been in the sun. Another blush that I love, it's in a similar packaging, is the Huda Beauty. (63e648093e5488454d0244c3/109) - (0.48939782)\n",
      "Ali Andreea: I remember that I've used this on Candice Swenpole who has normal skin, I would say, and it looked fantastic on her. (63e648093e5488454d0244c3/42) - (0.4890503)\n",
      "Ali Andreea: So I know how products work on models but also on people who are not models. People who have imperfections and texture and problematic skin. (63e648093e5488454d0244c3/118) - (0.4807712)\n",
      "Ali Andreea: It's number three, number three and number two for my complexion. I also have these in my kit. (63e648093e5488454d0244c3/216) - (0.47520328)\n",
      "Ali Andreea: Honestly, you will love this, not if you have oily skin. (63e648093e5488454d0244c3/90) - (0.47347456)\n",
      "Ali Andreea: We have this idea that we should use cream blushes in summer because they are more natural looking. (63e648093e5488454d0244c3/112) - (0.47262615)\n",
      "Ali Andreea: It's so beautiful. Don't be afraid to apply this even if you have very, very pale skin, because it will have the most beautiful rosy look. (63e648093e5488454d0244c3/104) - (0.4626486)\n",
      "Ali Andreea: If you have texture on your skin, which I do have a lot, you know the struggle of finding a very beautiful, luminous foundation. (63e648093e5488454d0244c3/17) - (0.45891032)\n",
      "Ali Andreea: because normally this is something that I would apply all over the face because it will give you the most beautiful sun kissed skin. (63e648093e5488454d0244c3/64) - (0.45628422)\n",
      "Ali Andreea: Don't waste your money. If there is one powder blush that I would recommend to you, it would be Valentino. (63e648093e5488454d0244c3/131) - (0.45314395)\n",
      "Ali Andreea: Not a lot of people talk about the fact that it's a little bit weird for us to use cream blushes in summer when we have the heat. (63e648093e5488454d0244c3/111) - (0.44781053)\n",
      "Ali Andreea: The last one. The last blush. I promise. I love blush. Blush is just my specialty. Blush and lipstick. (63e648093e5488454d0244c3/137) - (0.44263414)\n",
      "Ali Andreea: Last on my list and also in my rating is the Beautiful Skin Foundation. (63e648093e5488454d0244c3/40) - (0.43982193)\n",
      "Ali Andreea: This is the Makeup Forever HD and one of a kind. It's like, I hope you get this right, it's like nail polish for your skin. (63e648093e5488454d0244c3/29) - (0.43063945)\n",
      "Ali Andreea: I promise you in real life, in natural light, you will see the texture on my skin. (63e648093e5488454d0244c3/27) - (0.41211113)\n",
      "Ali Andreea: How can we talk about lipsticks ever without including Lisa Eldridge? (63e648093e5488454d0244c3/256) - (0.4046653)\n",
      "Ali Andreea: Another product that will absolutely be seamless on your skin, it will blend like a dream. (63e648093e5488454d0244c3/76) - (0.40389374)\n",
      "Ali Andreea: At first I was like, why would you apply powder and then the cream blush on top of it? But I get it. (63e648093e5488454d0244c3/142) - (0.3981907)\n",
      "Ali Andreea: And that's pretty much it when it comes to cream blushes. I'm trying to be as fast as possible because my assistant filming is she's like, (63e648093e5488454d0244c3/125) - (0.39417017)\n",
      "Ali Andreea: And because it does not have any coverage, it will not emphasize any texture, any imperfections on your skin. (63e648093e5488454d0244c3/68) - (0.38899082)\n",
      "Ali Andreea: This is the type of eyeshadow palette that I could anytime use at any of my jobs. (63e648093e5488454d0244c3/175) - (0.388169)\n",
      "Ali Andreea: And thank God that I still apply makeup on people and I would never ever stop doing that. (63e648093e5488454d0244c3/117) - (0.3814178)\n",
      "Ali Andreea: I don't like my blush palette to be super crazy pigmented like eye shadows. No, like, no, no, no. I disagree with that. (63e648093e5488454d0244c3/166) - (0.3801703)\n",
      "Ali Andreea: So don't be afraid to check it out. Another color that I love, love, love, love. It's more like a blush slash bronzer. (63e648093e5488454d0244c3/107) - (0.3795127)\n",
      "Ali Andreea: Along with Westman Atelier, this is the vital pressed skincare powder. It's what I'm wearing under my eyes. (63e648093e5488454d0244c3/147) - (0.3764751)\n",
      "Ali Andreea: Especially this one, the coconut. You could apply this on top of your lipstick or, you know, (63e648093e5488454d0244c3/246) - (0.37559363)\n",
      "Ali Andreea: If you hear me talk about super blendable, very easy to blend formulas, I would stay away from them if I had very oily skin. (63e648093e5488454d0244c3/91) - (0.37547812)\n",
      "Ali Andreea: That's one of the reasons why I love this so much. However, if you have oily skin, you want to apply this, (63e648093e5488454d0244c3/152) - (0.3709804)\n",
      "Ali Andreea: I cannot get to blush without mentioning gorgeous. The gorgeous, gorgeous, gorgeous blushes from Valentino. (63e648093e5488454d0244c3/130) - (0.3706852)\n",
      "Ali Andreea: Another product that I think not a lot of people talk about is this Frec. It's called Cheeks Slime. (63e648093e5488454d0244c3/121) - (0.36542898)\n",
      "Ali Andreea: I've discovered this obviously online and it's a fantastic, incredibly easy to use and super smooth on the skin contour slash bronzer, depending on the shades. (63e648093e5488454d0244c3/86) - (0.36497122)\n",
      "Ali Andreea: This is incredibly luminous, very light on the skin, very forgiving for texture. (63e648093e5488454d0244c3/16) - (0.3636467)\n",
      "Ali Andreea: I'm so grateful for Nabla Cosmetics for sending me a full range of colors. (63e648093e5488454d0244c3/217) - (0.36170435)\n",
      "Ali Andreea: Again, very forgiving to texture because I had acne my whole life, which means I'm full of scars, even if you don't see it in this light. (63e648093e5488454d0244c3/26) - (0.3614717)\n",
      "Ali Andreea: If you mix these three, you get this beautiful, soft, rosy blush. Really, really beautiful. (63e648093e5488454d0244c3/160) - (0.35994416)\n",
      "Ali Andreea: I love these bronzers, just like the blushes. Fantastic formulas. (63e648093e5488454d0244c3/99) - (0.35834152)\n",
      "Ali Andreea: The best. We got to my favorite product, which is lipstick. (63e648093e5488454d0244c3/202) - (0.35648134)\n",
      "Ali Andreea: Immediately I have added this in my professional makeup kit. The reason why I like this so much is because it's very similar. (63e648093e5488454d0244c3/36) - (0.35308847)\n",
      "Ali Andreea: Let's just put it this way. It's very similar with Luminous Silk from Georgia Armani, however it has more coverage. (63e648093e5488454d0244c3/37) - (0.35148805)\n",
      "Ali Andreea: I love this primer for myself and for my clients. Strongly recommend, especially for those of you whose makeup does not last. (63e648093e5488454d0244c3/11) - (0.3507867)\n",
      "Ali Andreea: If you have mature skin, I think you're going to like this because like I said, it's very lightweight and it will not set into the wrinkles. (63e648093e5488454d0244c3/46) - (0.3486237)\n",
      "Ali Andreea: So I know that if you're not good with makeup, this is going to be super challenging. (63e648093e5488454d0244c3/119) - (0.3447373)\n",
      "Ali Andreea: On the lips, this is so, so good. I'll put the name of these colors in my description box. (63e648093e5488454d0244c3/243) - (0.33984205)\n",
      "Ali Andreea: I mean I do makeup so often that I don't even know where I'm posting what. (63e648093e5488454d0244c3/183) - (0.33895287)\n",
      "Ali Andreea: I had to mention Garnon because they have my heart. I love the packaging. I love the formula of these lipsticks. (63e648093e5488454d0244c3/238) - (0.33660063)\n",
      "Ali Andreea: I could do my own makeup with it, but I could also take it to do celebrities makeup. (63e648093e5488454d0244c3/176) - (0.33454224)\n",
      "Ali Andreea: So I've only used this in the past four weeks, but I had to include it because it's such an amazing palette from Hourglass. (63e648093e5488454d0244c3/156) - (0.3342809)\n",
      "Ali Andreea: It's very comparable with the Rare Beauty stick that I just showed you. (63e648093e5488454d0244c3/89) - (0.33323035)\n",
      "Ali Andreea: The reason why I like these so much is because they just give you that very natural lip color. (63e648093e5488454d0244c3/250) - (0.33276373)\n",
      "Ali Andreea: This is from Charlotte Tilbury. So, so gorgeous. If you love your blush shimmery, then you're going to love this palette (63e648093e5488454d0244c3/163) - (0.3322088)\n",
      "Ali Andreea: My color for this one is too neutral and for the Huda Beauty concealer, I'm wearing Nougat most of the times. (63e648093e5488454d0244c3/49) - (0.3304432)\n",
      "Ali Andreea: Most of them will accentuate your texture. (63e648093e5488454d0244c3/18) - (0.32769024)\n",
      "Ali Andreea: And what's really amazing about these lipsticks is that they will not move. (63e648093e5488454d0244c3/231) - (0.32715768)\n",
      "Ali Andreea: Someone else could apply it and it would be like a super nice pop of color. It just looks beautiful on everyone. (63e648093e5488454d0244c3/106) - (0.32631826)\n",
      "Ali Andreea: So this would be a top on my list. I'm wearing this foundation right now. (63e648093e5488454d0244c3/20) - (0.32479906)\n",
      "Ali Andreea: And ever since I discovered this, this is the only concealer that I've been applying, the Vanish concealer and also Anastasia Beverly Hills. (63e648093e5488454d0244c3/54) - (0.3238822)\n",
      "Ali Andreea: And by far the one that I've used the most would be Anastasia Beverly Hills lip liner, especially the color Deep Taupe. (63e648093e5488454d0244c3/206) - (0.3228463)\n",
      "Ali Andreea: I mentioned these before in another video about lipsticks. These are so, so good. (63e648093e5488454d0244c3/245) - (0.3206331)\n",
      "Ali Andreea: So incredibly beautiful foundation. I could not not mention this foundation. (63e648093e5488454d0244c3/28) - (0.31356367)\n",
      "Ali Andreea: Let's face it. I started the year with this Fall Filter Concealer from Huda Beauty. (63e648093e5488454d0244c3/44) - (0.313543)\n",
      "Ali Andreea: And what I love about this is that it looks different on everyone. So I could apply it. It will look like this very natural pink. (63e648093e5488454d0244c3/105) - (0.3123546)\n",
      "Ali Andreea: Meaning that as soon as you apply it, it's like, it just sticks to your skin. (63e648093e5488454d0244c3/30) - (0.31020582)\n",
      "Ali Andreea: So thank you so much. I could not not talk about the lip liner from Natasha Denona. (63e648093e5488454d0244c3/219) - (0.30981255)\n",
      "Ali Andreea: When it comes to lipsticks, I wanted to start with the Power Matte lipsticks from NARS. (63e648093e5488454d0244c3/224) - (0.3097653)\n",
      "Ali Andreea: Another foundation that I've discovered this year, but it was not released this year, the Anastasia Luminous Foundation. (63e648093e5488454d0244c3/34) - (0.30965444)\n",
      "Ali Andreea: It's a super romantic palette, very, very romantic palette with crazy pigment. (63e648093e5488454d0244c3/174) - (0.30801314)\n",
      "Ali Andreea: Honestly, I don't have anything to talk about when it comes to eyebrows other than ReFi. (63e648093e5488454d0244c3/167) - (0.30479705)\n",
      "Ali Andreea: Strongly recommend this palette. Look at these colors. Come on. (63e648093e5488454d0244c3/161) - (0.30443752)\n",
      "Ali Andreea: Another beautiful eyeshadow palette is this one from Pat McGrath. (63e648093e5488454d0244c3/188) - (0.30310667)\n",
      "Ali Andreea: If you've been on this channel, you know my love for lipstick and for lip liner. (63e648093e5488454d0244c3/203) - (0.30291268)\n",
      "Ali Andreea: So again, great versatile product. This is the type of concealer that I would apply every day. (63e648093e5488454d0244c3/51) - (0.30207956)\n",
      "Ali Andreea: It's not everyone's cup of tea. However, if you love this look of the eyebrows, which is very modern right now, you will love this. (63e648093e5488454d0244c3/169) - (0.30201554)\n",
      "Ali Andreea: If I want my makeup to last super well for like this type of look I'm wearing now, I would go for this. (63e648093e5488454d0244c3/278) - (0.3018688)\n",
      "Ali Andreea: So this is simply something that I would apply to give my skin a bit more warmth. (63e648093e5488454d0244c3/67) - (0.30161378)\n",
      "Ali Andreea: The reason why I like to apply this under my eyes is because it does not emphasize the wrinkles. (63e648093e5488454d0244c3/148) - (0.30041724)\n",
      "Ali Andreea: Because I tried this on my mom. My mom never hydrates her lips and it was very, very patchy. (63e648093e5488454d0244c3/254) - (0.29955336)\n",
      "Ali Andreea: And at this time I had to include the Velvet Duchess. This is one very special color. (63e648093e5488454d0244c3/257) - (0.2995147)\n",
      "Ali Andreea: These blushes in the stick form, beautiful colors, especially this one in bubble. It's what I'm wearing today. (63e648093e5488454d0244c3/102) - (0.2987637)\n",
      "Ali Andreea: It's a lip liner from Nabla Cosmetics. These are so good and so long lasting, you guys. (63e648093e5488454d0244c3/210) - (0.29848066)\n",
      "Ali Andreea: Natasha Denona. Natasha Denona has fantastic palettes. This is the palette that I chose to use in today's video for my makeup. (63e648093e5488454d0244c3/172) - (0.29722756)\n",
      "Ali Andreea: This is the ambient soft glow. This is exactly the perfect description for this foundation. (63e648093e5488454d0244c3/21) - (0.294284)\n",
      "Ali Andreea: So go more towards drier version, even if they are a little bit harder to blend. But I promise you it's going to worth the struggle for oily skin because it will last much longer. (63e648093e5488454d0244c3/93) - (0.29311252)\n",
      "Ali Andreea: Is this contour slash bronzer from Rare Beauty, which is always out of stock. (63e648093e5488454d0244c3/78) - (0.2896064)\n",
      "Ali Andreea: I think it's a beautiful, beautiful palette if you love more like pinks and violets. (63e648093e5488454d0244c3/173) - (0.28853044)\n",
      "Ali Andreea: These are super long lasting from Nabla Cosmetics. The color that I use the most. (63e648093e5488454d0244c3/214) - (0.28682968)\n",
      "Ali Andreea: I think lip liner is like changing everything when it comes to the application of the lipstick and also the way your lips look. (63e648093e5488454d0244c3/204) - (0.2868082)\n",
      "Ali Andreea: This is like his signature. The way he likes to do the makeup is applying first the powder and then the cream (63e648093e5488454d0244c3/143) - (0.28610155)\n",
      "Ali Andreea: If you have wrinkles, you have wrinkles. That's it. And this will not emphasize them. (63e648093e5488454d0244c3/151) - (0.2848215)\n",
      "Ali Andreea: This product I love, love, love. (63e648093e5488454d0244c3/80) - (0.28288954)\n",
      "Ali Andreea: It's a very, very fine powder that I think a lot of you would love, especially if you have wrinkles like I do. (63e648093e5488454d0244c3/149) - (0.28063363)\n",
      "Ali Andreea: So it's a classic formula of lipstick, but as you apply it, it dries, but it doesn't get super dry. (63e648093e5488454d0244c3/232) - (0.27978343)\n",
      "Ali Andreea: Another palette that I've recently started to use, it hasn't been launched long ago, is this. As you can see, I barely touched it. (63e648093e5488454d0244c3/162) - (0.27907026)\n",
      "Ali Andreea: This is great to have in your bag. It also has a little brush right here, which is super, super practical and very cute. (63e648093e5488454d0244c3/155) - (0.27899367)\n",
      "Ali Andreea: And like I said, the colors available, fantastic. (63e648093e5488454d0244c3/39) - (0.2787147)\n",
      "Ali Andreea: They have amazing products, but by far my favorite would be this highlighter balm. (63e648093e5488454d0244c3/270) - (0.27678075)\n",
      "Ali Andreea: So really super reliable, super long lasting eyeshadows. And this one in particular I like because of the colors. (63e648093e5488454d0244c3/177) - (0.27434403)\n"
     ]
    }
   ],
   "source": [
    "for h in hits:\n",
    "    print(f\"{h[0].metadata['creatorName']}: {h[0].page_content} ({h[0].metadata['srcInfo']['srcVideo']}/{h[0].metadata['srcInfo']['srcCont']}) - ({h[1]})\")"
   ]
  },
  {
   "cell_type": "code",
   "execution_count": 21,
   "metadata": {},
   "outputs": [],
   "source": [
    "from qdrant_client.http import models\n",
    "query = \"What all things are there in skincare and beauty\"\n",
    "hits = qdrant.similarity_search_with_relevance_scores(query, k=100, filter=models.Filter(\n",
    "    must=[\n",
    "        models.FieldCondition(key=\"metadata.creatorName\", match=models.MatchAny(any=['Beauty Within', 'Allure']))\n",
    "    ]\n",
    "))"
   ]
  },
  {
   "cell_type": "code",
   "execution_count": 22,
   "metadata": {},
   "outputs": [
    {
     "data": {
      "text/plain": [
       "0"
      ]
     },
     "execution_count": 22,
     "metadata": {},
     "output_type": "execute_result"
    }
   ],
   "source": [
    "len(hits)"
   ]
  },
  {
   "cell_type": "code",
   "execution_count": 23,
   "metadata": {},
   "outputs": [],
   "source": [
    "for h in hits:\n",
    "    print(f\"{h[0].metadata['creatorName']}: {h[0].page_content} ({h[0].metadata['srcInfo']['srcVideo']}/{h[0].metadata['srcInfo']['srcCont']}) - ({h[1]})\")"
   ]
  },
  {
   "cell_type": "code",
   "execution_count": 24,
   "metadata": {},
   "outputs": [],
   "source": [
    "from qdrant_client.http import models\n",
    "query = \"What all things are there in skincare and beauty\"\n",
    "hits = qdrant.similarity_search_with_relevance_scores(query, k=100, filter=models.Filter(\n",
    "    must=[\n",
    "        models.FieldCondition(key=\"metadata.creatorName\", match=models.MatchAny(any=['Beauty Within', 'Allure'])),\n",
    "        models.FieldCondition(key=\"metadata.brandsMentioned\", match=models.MatchAny(any=['blends', 'girl']))\n",
    "    ]\n",
    "))"
   ]
  },
  {
   "cell_type": "code",
   "execution_count": 25,
   "metadata": {},
   "outputs": [
    {
     "data": {
      "text/plain": [
       "0"
      ]
     },
     "execution_count": 25,
     "metadata": {},
     "output_type": "execute_result"
    }
   ],
   "source": [
    "len(hits)"
   ]
  },
  {
   "cell_type": "code",
   "execution_count": null,
   "metadata": {},
   "outputs": [],
   "source": [
    "for h in hits:\n",
    "    if 'blends' in h[0].metadata['brandsMentioned'] or 'girl' in h[0].metadata['brandsMentioned']:\n",
    "        print(f\"{h[0].metadata['creatorName']}: {h[0].page_content} ({h[0].metadata['srcInfo']['srcVideo']}/{h[0].metadata['srcInfo']['srcCont']}) - ({h[1]})\")\n",
    "    else:\n",
    "        raise Exception(f\"Got hit out of search {h}\")"
   ]
  },
  {
   "cell_type": "code",
   "execution_count": null,
   "metadata": {},
   "outputs": [],
   "source": []
  },
  {
   "cell_type": "code",
   "execution_count": null,
   "metadata": {},
   "outputs": [],
   "source": []
  },
  {
   "cell_type": "code",
   "execution_count": null,
   "metadata": {},
   "outputs": [],
   "source": []
  }
 ],
 "metadata": {
  "kernelspec": {
   "display_name": "venv",
   "language": "python",
   "name": "python3"
  },
  "language_info": {
   "codemirror_mode": {
    "name": "ipython",
    "version": 3
   },
   "file_extension": ".py",
   "mimetype": "text/x-python",
   "name": "python",
   "nbconvert_exporter": "python",
   "pygments_lexer": "ipython3",
   "version": "3.9.6"
  },
  "orig_nbformat": 4
 },
 "nbformat": 4,
 "nbformat_minor": 2
}
