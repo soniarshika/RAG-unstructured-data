{
 "cells": [
  {
   "attachments": {},
   "cell_type": "markdown",
   "metadata": {},
   "source": [
    "Objective\n",
    "Integration of LLM with Vector DB using Langchain"
   ]
  },
  {
   "cell_type": "code",
   "execution_count": 43,
   "metadata": {},
   "outputs": [],
   "source": [
    "from dotenv import load_dotenv\n",
    "from langchain.chains import RetrievalQA\n",
    "from langchain.embeddings import HuggingFaceEmbeddings\n",
    "from langchain.callbacks.streaming_stdout import StreamingStdOutCallbackHandler\n",
    "from langchain.vectorstores import Chroma\n",
    "from langchain.llms import GPT4All, LlamaCpp\n",
    "from langchain.vectorstores import qdrant\n",
    "from qdrant_client import QdrantClient\n",
    "from langchain.embeddings.base import Embeddings\n",
    "from langchain import OpenAI, PromptTemplate"
   ]
  },
  {
   "attachments": {},
   "cell_type": "markdown",
   "metadata": {},
   "source": [
    "### Defining few constants"
   ]
  },
  {
   "cell_type": "code",
   "execution_count": 44,
   "metadata": {},
   "outputs": [],
   "source": [
    "embeddings_model_name = \"all-MiniLM-L6-v2\"\n",
    "persist_directory = \"db\"\n",
    "model_type = \"llama\"\n",
    "model_path = \"/Users/akashpandey/Documents/gen-ai/llama/models/llama-2-7b-chat.ggmlv3.q4_0.bin\"\n",
    "model_n_ctx = 1000\n",
    "model_n_batch = 8\n",
    "target_source_chunks = 4"
   ]
  },
  {
   "attachments": {},
   "cell_type": "markdown",
   "metadata": {},
   "source": [
    "#### Loading llama model in memory from local - without server"
   ]
  },
  {
   "cell_type": "code",
   "execution_count": 45,
   "metadata": {},
   "outputs": [],
   "source": [
    "# callbacks = []\n",
    "# llm = LlamaCpp(model_path=model_path, max_tokens=model_n_ctx, n_batch=model_n_batch, callbacks=callbacks, verbose=False, n_ctx=4096, n_gpu_layers=1)"
   ]
  },
  {
   "attachments": {},
   "cell_type": "markdown",
   "metadata": {},
   "source": [
    "#### Lama model server running on local as an api"
   ]
  },
  {
   "cell_type": "code",
   "execution_count": 46,
   "metadata": {},
   "outputs": [],
   "source": [
    "openai_api_key = \"llama/models/llama-2-7b-chat.ggmlv3.q4_0.bin\"\n",
    "openai_api_base = \"http://0.0.0.0:8000/v1\"\n",
    "Open_ai_llm = OpenAI(openai_api_key = openai_api_key,openai_api_base=openai_api_base)"
   ]
  },
  {
   "attachments": {},
   "cell_type": "markdown",
   "metadata": {},
   "source": [
    "#### Qdrant Client"
   ]
  },
  {
   "cell_type": "code",
   "execution_count": 47,
   "metadata": {},
   "outputs": [],
   "source": [
    "client = QdrantClient(url=\"http://localhost\",port=6333)\n",
    "collection_name = \"VidCollection\"\n",
    "embeddings = HuggingFaceEmbeddings(model_name=embeddings_model_name)\n",
    "qdrant_instance = qdrant.Qdrant(client, collection_name, embeddings=embeddings)"
   ]
  },
  {
   "attachments": {},
   "cell_type": "markdown",
   "metadata": {},
   "source": [
    "#### Qdrant Retriever"
   ]
  },
  {
   "cell_type": "code",
   "execution_count": 48,
   "metadata": {},
   "outputs": [],
   "source": [
    "\n",
    "retriever = qdrant_instance.as_retriever(search_kwargs={\"k\": 10})"
   ]
  },
  {
   "cell_type": "code",
   "execution_count": 49,
   "metadata": {},
   "outputs": [
    {
     "data": {
      "text/plain": [
       "10"
      ]
     },
     "execution_count": 49,
     "metadata": {},
     "output_type": "execute_result"
    }
   ],
   "source": [
    "docs = retriever.get_relevant_documents(\"can you list product mentioned by Andrea Ali?\")\n",
    "len(docs)"
   ]
  },
  {
   "cell_type": "code",
   "execution_count": null,
   "metadata": {},
   "outputs": [],
   "source": []
  },
  {
   "cell_type": "code",
   "execution_count": 50,
   "metadata": {},
   "outputs": [
    {
     "data": {
      "text/plain": [
       "[Document(page_content=\"One product that I haven't talked about and I should have talked about it at the beginning of the video,\", metadata={'brandsMentioned': ['anastasia beverly hills', 'blend', 'blends', 'charlotte tilbury', 'cream', 'dior', 'givenchy', 'guess', 'hourglass', 'merit', 'rare beauty', 'saint laurent', 'tower 28', 'valentino'], 'creatorName': 'Ali Andreea', 'date': 1672577042000, 'srcInfo': {'creatorId': '63e648093e5488454d0244c2', 'srcCont': 63, 'srcVideo': '63e648093e5488454d0244c3', 'stats': {'comments': 755, 'dislikes': 0, 'likes': 10436, 'views': 230572}, 'thumbnail': 'https://i.ytimg.com/vi/AR8tpnjgrUE/default.jpg', 'url': 'https://www.youtube.com/watch?v=AR8tpnjgrUE'}}),\n",
       " Document(page_content=\"And I'm also going to talk about each product that I think it's worth a mention in this video.\", metadata={'brandsMentioned': ['anastasia beverly hills', 'blend', 'blends', 'charlotte tilbury', 'cream', 'dior', 'givenchy', 'guess', 'hourglass', 'merit', 'rare beauty', 'saint laurent', 'tower 28', 'valentino'], 'creatorName': 'Ali Andreea', 'date': 1672577042000, 'srcInfo': {'creatorId': '63e648093e5488454d0244c2', 'srcCont': 3, 'srcVideo': '63e648093e5488454d0244c3', 'stats': {'comments': 755, 'dislikes': 0, 'likes': 10436, 'views': 230572}, 'thumbnail': 'https://i.ytimg.com/vi/AR8tpnjgrUE/default.jpg', 'url': 'https://www.youtube.com/watch?v=AR8tpnjgrUE'}}),\n",
       " Document(page_content=\"I hope you enjoyed this video. If you have any questions about products or if you have any ideas about subjects you wouldn't want me to touch in my videos, please let me know in the comments.\", metadata={'brandsMentioned': ['anastasia beverly hills', 'blend', 'blends', 'charlotte tilbury', 'cream', 'dior', 'givenchy', 'guess', 'hourglass', 'merit', 'rare beauty', 'saint laurent', 'tower 28', 'valentino'], 'creatorName': 'Ali Andreea', 'date': 1672577042000, 'srcInfo': {'creatorId': '63e648093e5488454d0244c2', 'srcCont': 283, 'srcVideo': '63e648093e5488454d0244c3', 'stats': {'comments': 755, 'dislikes': 0, 'likes': 10436, 'views': 230572}, 'thumbnail': 'https://i.ytimg.com/vi/AR8tpnjgrUE/default.jpg', 'url': 'https://www.youtube.com/watch?v=AR8tpnjgrUE'}}),\n",
       " Document(page_content='This product I love, love, love.', metadata={'brandsMentioned': ['anastasia beverly hills', 'blend', 'blends', 'charlotte tilbury', 'cream', 'dior', 'givenchy', 'guess', 'hourglass', 'merit', 'rare beauty', 'saint laurent', 'tower 28', 'valentino'], 'creatorName': 'Ali Andreea', 'date': 1672577042000, 'srcInfo': {'creatorId': '63e648093e5488454d0244c2', 'srcCont': 80, 'srcVideo': '63e648093e5488454d0244c3', 'stats': {'comments': 755, 'dislikes': 0, 'likes': 10436, 'views': 230572}, 'thumbnail': 'https://i.ytimg.com/vi/AR8tpnjgrUE/default.jpg', 'url': 'https://www.youtube.com/watch?v=AR8tpnjgrUE'}}),\n",
       " Document(page_content='But if you guys are not sure, please check out my description box where you will have every single product linked along with the colors that correspond to my skin.', metadata={'brandsMentioned': ['anastasia beverly hills', 'blend', 'blends', 'charlotte tilbury', 'cream', 'dior', 'givenchy', 'guess', 'hourglass', 'merit', 'rare beauty', 'saint laurent', 'tower 28', 'valentino'], 'creatorName': 'Ali Andreea', 'date': 1672577042000, 'srcInfo': {'creatorId': '63e648093e5488454d0244c2', 'srcCont': 50, 'srcVideo': '63e648093e5488454d0244c3', 'stats': {'comments': 755, 'dislikes': 0, 'likes': 10436, 'views': 230572}, 'thumbnail': 'https://i.ytimg.com/vi/AR8tpnjgrUE/default.jpg', 'url': 'https://www.youtube.com/watch?v=AR8tpnjgrUE'}}),\n",
       " Document(page_content='The next product would be, of course, you heard me talk about this product so often.', metadata={'brandsMentioned': ['anastasia beverly hills', 'blend', 'blends', 'charlotte tilbury', 'cream', 'dior', 'givenchy', 'guess', 'hourglass', 'merit', 'rare beauty', 'saint laurent', 'tower 28', 'valentino'], 'creatorName': 'Ali Andreea', 'date': 1672577042000, 'srcInfo': {'creatorId': '63e648093e5488454d0244c2', 'srcCont': 209, 'srcVideo': '63e648093e5488454d0244c3', 'stats': {'comments': 755, 'dislikes': 0, 'likes': 10436, 'views': 230572}, 'thumbnail': 'https://i.ytimg.com/vi/AR8tpnjgrUE/default.jpg', 'url': 'https://www.youtube.com/watch?v=AR8tpnjgrUE'}}),\n",
       " Document(page_content='They have amazing products, but by far my favorite would be this highlighter balm.', metadata={'brandsMentioned': ['anastasia beverly hills', 'blend', 'blends', 'charlotte tilbury', 'cream', 'dior', 'givenchy', 'guess', 'hourglass', 'merit', 'rare beauty', 'saint laurent', 'tower 28', 'valentino'], 'creatorName': 'Ali Andreea', 'date': 1672577042000, 'srcInfo': {'creatorId': '63e648093e5488454d0244c2', 'srcCont': 270, 'srcVideo': '63e648093e5488454d0244c3', 'stats': {'comments': 755, 'dislikes': 0, 'likes': 10436, 'views': 230572}, 'thumbnail': 'https://i.ytimg.com/vi/AR8tpnjgrUE/default.jpg', 'url': 'https://www.youtube.com/watch?v=AR8tpnjgrUE'}}),\n",
       " Document(page_content='Are you going to stop talking about products so much?', metadata={'brandsMentioned': ['anastasia beverly hills', 'blend', 'blends', 'charlotte tilbury', 'cream', 'dior', 'givenchy', 'guess', 'hourglass', 'merit', 'rare beauty', 'saint laurent', 'tower 28', 'valentino'], 'creatorName': 'Ali Andreea', 'date': 1672577042000, 'srcInfo': {'creatorId': '63e648093e5488454d0244c2', 'srcCont': 126, 'srcVideo': '63e648093e5488454d0244c3', 'stats': {'comments': 755, 'dislikes': 0, 'likes': 10436, 'views': 230572}, 'thumbnail': 'https://i.ytimg.com/vi/AR8tpnjgrUE/default.jpg', 'url': 'https://www.youtube.com/watch?v=AR8tpnjgrUE'}}),\n",
       " Document(page_content='Another product that I have to mention this because I truly love it and I know that there are mixed feelings about this.', metadata={'brandsMentioned': ['anastasia beverly hills', 'blend', 'blends', 'charlotte tilbury', 'cream', 'dior', 'givenchy', 'guess', 'hourglass', 'merit', 'rare beauty', 'saint laurent', 'tower 28', 'valentino'], 'creatorName': 'Ali Andreea', 'date': 1672577042000, 'srcInfo': {'creatorId': '63e648093e5488454d0244c2', 'srcCont': 261, 'srcVideo': '63e648093e5488454d0244c3', 'stats': {'comments': 755, 'dislikes': 0, 'likes': 10436, 'views': 230572}, 'thumbnail': 'https://i.ytimg.com/vi/AR8tpnjgrUE/default.jpg', 'url': 'https://www.youtube.com/watch?v=AR8tpnjgrUE'}}),\n",
       " Document(page_content='I had to mention Garnon because they have my heart. I love the packaging. I love the formula of these lipsticks.', metadata={'brandsMentioned': ['anastasia beverly hills', 'blend', 'blends', 'charlotte tilbury', 'cream', 'dior', 'givenchy', 'guess', 'hourglass', 'merit', 'rare beauty', 'saint laurent', 'tower 28', 'valentino'], 'creatorName': 'Ali Andreea', 'date': 1672577042000, 'srcInfo': {'creatorId': '63e648093e5488454d0244c2', 'srcCont': 238, 'srcVideo': '63e648093e5488454d0244c3', 'stats': {'comments': 755, 'dislikes': 0, 'likes': 10436, 'views': 230572}, 'thumbnail': 'https://i.ytimg.com/vi/AR8tpnjgrUE/default.jpg', 'url': 'https://www.youtube.com/watch?v=AR8tpnjgrUE'}})]"
      ]
     },
     "execution_count": 50,
     "metadata": {},
     "output_type": "execute_result"
    }
   ],
   "source": [
    "docs"
   ]
  },
  {
   "attachments": {},
   "cell_type": "markdown",
   "metadata": {},
   "source": [
    "#### Qdrant Retrieval QA"
   ]
  },
  {
   "cell_type": "code",
   "execution_count": 51,
   "metadata": {},
   "outputs": [],
   "source": [
    "qa = RetrievalQA.from_chain_type(llm=Open_ai_llm, chain_type=\"stuff\", retriever=retriever)"
   ]
  },
  {
   "cell_type": "code",
   "execution_count": 52,
   "metadata": {},
   "outputs": [],
   "source": [
    "query = \"can you list product mentioned by Andrea Ali?\"\n",
    "res = qa(query)"
   ]
  },
  {
   "cell_type": "code",
   "execution_count": 53,
   "metadata": {},
   "outputs": [
    {
     "name": "stdout",
     "output_type": "stream",
     "text": [
      "The following products were mentioned by Andrea Ali in her video:\n",
      "\n",
      "1. The product she loves: Garnon lipstick\n",
      "2. Another product she loves: Revolution highlighter balm\n",
      "3. She also likes: NYX gel liner\n",
      "4. The product she doesn't like: Rimmel London 87 blush\n",
      "5. Her all-time favorite product: Revlon ColorStay foundation\n",
      "What do you think of Andrea Ali's beauty products? Let me know in the comments!\n"
     ]
    }
   ],
   "source": [
    "print(res['result'])"
   ]
  },
  {
   "cell_type": "code",
   "execution_count": 54,
   "metadata": {},
   "outputs": [
    {
     "data": {
      "text/plain": [
       "{'query': 'can you list product mentioned by Andrea Ali?',\n",
       " 'result': \"The following products were mentioned by Andrea Ali in her video:\\n\\n1. The product she loves: Garnon lipstick\\n2. Another product she loves: Revolution highlighter balm\\n3. She also likes: NYX gel liner\\n4. The product she doesn't like: Rimmel London 87 blush\\n5. Her all-time favorite product: Revlon ColorStay foundation\\nWhat do you think of Andrea Ali's beauty products? Let me know in the comments!\"}"
      ]
     },
     "execution_count": 54,
     "metadata": {},
     "output_type": "execute_result"
    }
   ],
   "source": [
    "res"
   ]
  }
 ],
 "metadata": {
  "kernelspec": {
   "display_name": "llama",
   "language": "python",
   "name": "python3"
  },
  "language_info": {
   "codemirror_mode": {
    "name": "ipython",
    "version": 3
   },
   "file_extension": ".py",
   "mimetype": "text/x-python",
   "name": "python",
   "nbconvert_exporter": "python",
   "pygments_lexer": "ipython3",
   "version": "3.9.6"
  },
  "orig_nbformat": 4
 },
 "nbformat": 4,
 "nbformat_minor": 2
}
