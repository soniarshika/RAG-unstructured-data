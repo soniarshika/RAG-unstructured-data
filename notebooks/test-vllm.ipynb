{
 "cells": [
  {
   "cell_type": "markdown",
   "metadata": {},
   "source": [
    "## Objective\n",
    "Integration of LLM with Vector DB using Langchain"
   ]
  },
  {
   "cell_type": "code",
   "execution_count": 50,
   "metadata": {},
   "outputs": [],
   "source": [
    "from langchain.chains import RetrievalQA, QAWithSourcesChain\n",
    "from langchain.embeddings import HuggingFaceEmbeddings\n",
    "from langchain.vectorstores import qdrant\n",
    "from qdrant_client import QdrantClient\n",
    "from langchain import OpenAI\n",
    "from qdrant_client.http import models\n",
    "from langchain.llms import HuggingFaceTextGenInference\n",
    "embeddings_model_name = \"all-MiniLM-L6-v2\""
   ]
  },
  {
   "cell_type": "markdown",
   "metadata": {},
   "source": [
    "# Connecting to VLLM model server"
   ]
  },
  {
   "cell_type": "code",
   "execution_count": 51,
   "metadata": {},
   "outputs": [],
   "source": [
    "openai_api_key = \"llama/models/llama-2-7b-chat.ggmlv3.q4_0.bin\"\n",
    "openai_api_base = \"http://34.126.87.255:32768/v1\"\n",
    "# openai_api_base = \"http://35.188.99.103:8080/v1\"\n",
    "# Open_ai_llm = OpenAI(openai_api_key = openai_api_key,openai_api_base=openai_api_base, model = \"model/llama-2-7b-chat.ggmlv3.q4_0.bin\")\n",
    "Open_ai_llm = OpenAI(openai_api_key = openai_api_key,openai_api_base=openai_api_base, model = \"meta-llama/Llama-2-7b-chat-hf\",logit_bias=None)"
   ]
  },
  {
   "cell_type": "code",
   "execution_count": 52,
   "metadata": {},
   "outputs": [
    {
     "data": {
      "text/plain": [
       "LLMResult(generations=[[Generation(text='om provides a comprehensive range of services to help businesses and individuals create and manage their online presence. With a focus on custom design, development, and digital marketing solutions, Hloom helps clients establish and maintain a strong online presence that aligns with their brand values and goals.\\nHloom’s comprehensive suite of services includes:\\n1. Website Design and Development: Hloom creates custom, responsive websites that are optimized for user experience and search engine ranking.\\n2. Digital Marketing: Hloom provides a range of digital marketing services, including SEO, PPC, social media marketing, and email marketing, to help clients reach their target audience and drive conversions.\\n3. Branding and Identity: Hloom helps clients establish and maintain a strong brand identity through custom logo design, branding guidelines, and marketing materials.\\n4. Content Creation: Hloom provides high-quality content creation services, including blog writing, copywriting, and video production, to help clients engage and inform their target audience.\\n5. E-commerce Solutions: Hloom offers custom e-commerce solutions that are designed to meet the unique needs of businesses and help them drive', generation_info={'finish_reason': 'length', 'logprobs': None})]], llm_output={'token_usage': {'prompt_tokens': 3, 'completion_tokens': 256, 'total_tokens': 259}, 'model_name': 'meta-llama/Llama-2-7b-chat-hf'}, run=[RunInfo(run_id=UUID('d11f0d44-67ae-43c8-90cf-e9f2d37210dd'))])"
      ]
     },
     "execution_count": 52,
     "metadata": {},
     "output_type": "execute_result"
    }
   ],
   "source": [
    "Open_ai_llm.generate([\"Hlo\"])"
   ]
  },
  {
   "cell_type": "markdown",
   "metadata": {},
   "source": [
    "## Qdrant server"
   ]
  },
  {
   "cell_type": "code",
   "execution_count": 53,
   "metadata": {},
   "outputs": [],
   "source": [
    "# client = QdrantClient(url=\"http://localhost\",port=6333)\n",
    "# collection_name = \"VidColl\"\n",
    "client = QdrantClient(url=\"http://34.173.165.171\",port=9333)\n",
    "collection_name = \"VideoCollection\"\n",
    "embeddings = HuggingFaceEmbeddings(model_name=embeddings_model_name)\n",
    "qdrant_instance = qdrant.Qdrant(client, collection_name, embeddings=embeddings)"
   ]
  },
  {
   "cell_type": "markdown",
   "metadata": {},
   "source": [
    "### Query parameters"
   ]
  },
  {
   "cell_type": "code",
   "execution_count": 54,
   "metadata": {},
   "outputs": [],
   "source": [
    "query = \"List product mentioned by Andrea Ali\"\n",
    "creater_filter = 'Ali Andreea'"
   ]
  },
  {
   "cell_type": "code",
   "execution_count": 55,
   "metadata": {},
   "outputs": [],
   "source": [
    "retriever = qdrant_instance.as_retriever(search_kwargs={\"k\": 10\n",
    ",\"filter\": models.Filter(\n",
    "    must=[models.FieldCondition(key=\"metadata.creatorName\", match=models.MatchAny(any=[creater_filter]))\n",
    "        #  ,models.FieldCondition(key =\"metadata.brandsMentioned\", match=models.MatchAny(any=['nespresso']))\n",
    "         ]\n",
    "      )})\n",
    "\n",
    "docs = retriever.get_relevant_documents(query)\n",
    "# Giving sources in documents\n",
    "for i,d in enumerate(docs):\n",
    "    d.metadata['source'] = i\n"
   ]
  },
  {
   "cell_type": "markdown",
   "metadata": {},
   "source": [
    "#### QA chain of Langchain + LLM  ---- QA with sources."
   ]
  },
  {
   "cell_type": "code",
   "execution_count": 56,
   "metadata": {},
   "outputs": [
    {
     "name": "stdout",
     "output_type": "stream",
     "text": [
      "\n",
      "Prompts-----\n",
      " [StringPromptValue(text='Given the following extracted parts of a long document and a question, create a final answer with references (\"SOURCES\").\\nIf you don\\'t know the answer, just say that you don\\'t know. Don\\'t try to make up an answer.\\nALWAYS return a \"SOURCES\" part in your answer.\\n\\n \\n\\nQUESTION: What creator has talked most about \\'adidas\\' in the past six months?\\n=========\\nContent: because like we\\'ve had this discussion before right like there are there are lots of brands who\\nSource: 7b53a9b84f8d269c192e3a7a-112\\nContent: that in the empties. I like a nice clean pair of trainers. Adidas though. I don\\'t I never:\\nSource: 95f182c76a6e041efb53c08e-243\\nContent: did not take my shoes off because of Adidas. I\\'m wearing Adidas today. I think I\\'m wearing. I don\\'t know\\nSource: a2d4f9c56b8e7e1d093d6f2c-278\\nContent: women\\'s pair of adidas I always have to wear men\\'s this is probably why I like to take my shoes off\\nSource: d7f6a8c3b5e2497e01538a69-456\\n=========\\nFINAL ANSWER: The creator talked about their experience with Adidas. They mentioned their preference for clean trainers and discussed how they always have to wear men\\'s Adidas shoes due to a better fit, even though they are a woman. They also indicated that they were wearing Adidas shoes at the time of speaking and highlighted the comfort aspect.\\nSOURCES: 95f182c76a6e041efb53c08e-243,a2d4f9c56b8e7e1d093d6f2c-278,d7f6a8c3b5e2497e01538a69-456\\n\\n \\n\\nQUESTION: Provide the names of the product brands mentioned by Andrea Ali in her video.\\n=========\\nContent: They have amazing products, but by far my favorite would be this highlighter balm.\\nSource: 7b53a9b84f8d269c192e3b7b-113\\nContent: Natasha Denona. Natasha Denona has fantastic palettes. This is the palette that I chose to use in today\\'s video for my makeup.\\nSource: 95f182c76a6e041efb53c08b-244\\nContent: And by far the one that I\\'ve used the most would be Anastasia Beverly Hills lip liner, especially the color Deep Taupe.\\nSource: 11d4f9c56b8e7e1d093d6f2d-279\\nContent: Another product that I think not a lot of people talk about is this Frec. It\\'s called Cheeks Slime.\\nSource: 16f6a8c3b5e2497e01538a70-467\\nContent: It\\'s a lip liner from Nabla Cosmetics. These are so good and so long lasting, you guys.\\nSource: 1a5b3c8e7f2d4a9b0e6c-35\\nContent: Let\\'s face it. I started the year with this Fall Filter Concealer from Huda Beauty.\\nSource: ho8w206ybhvr76546guiopds-46\\n=========\\nFINAL ANSWER:  These are the name of products which Andrea Ali mentioned Natasha Denona, Anastasia Beverly Hills, Frec (Cheeks Slime),Nabla Cosmetics,Huda Beauty\\nSOURCES: 95f182c76a6e041efb53c08b-244,11d4f9c56b8e7e1d093d6f2d-279,16f6a8c3b5e2497e01538a70-467,1a5b3c8e7f2d4a9b0e6c-35\\n\\n\\n\\nQUESTION: Summarise CoffeeBreakwithDani discussion about eye serum.\\n=========\\nContent: Grande Lash MD Lash Enhancing Serum. It looks like this. It\\'s a product that you have to use for,\\nSource: 780gh877ju87154gu75687h8-5\\nContent: Today we are going to talk about a serum foundation that you need in your life\\nSource: ho8w206ybhvr76546juiopds-10\\nContent: Oh wait, I don\\'t use an eye serum is I serum a thing. I didn\\'t know I needed one\\nSource: jhuioqse13667892poseikl8-25\\nContent: What? Alright you guys, today we are here to discuss the Ordinary\\'s Serum Foundation\\nSource: lpoi908765awerf567hbvmn1-15\\nContent: So this is the resurfacing serum that goes along with this one here.\\nSource: nmkcloiapoi8904581aftyu2-20\\nContent: Still gonna link it though after I\\'ve done all my serums is when I go in with eye cream\\nSource: mkiok12345aswhbvb856912w-30\\nContent: that serum would make my eyes feel really dry,\\nSource: lopk6719ju12iuh712cvag12-39\\nContent: So it\\'s not one of those lash serums\\nSource: tyhgy14236afrtymkops1698-40\\nContent: I accidentally got the CC me serum. This is a brightening serum\\nSource: yetiqujaq098762345ju8i89-41\\n=========\\nFINAL ANSWER: The creator discusses various serums, including lash enhancers and resurfacing serums. Creator expresses surprise about the concept of eye serums that make the eyes dry. \\nSOURCES: 780gh877ju87154gu75687h8-5,jhuioqse13667892poseikl8-25,nmkcloiapoi8904581aftyu2-20,lopk6719ju12iuh712cvag12-39\\n\\n\\nQUESTION: Which is the best eyeshadow discussed by Andrea Ali? \\n========= \\nContent: Another beautiful eyeshadow palette is this one from Pat McGrath. \\nSource: f0b3e5a2c7d4f8-246 \\nContent: My far number one blush for me, it has to be the Persona Cosmetics. They have my heart. \\nSource: e3c1d9a7f2b8e0c4-581 \\nContent: These four are my top favorite concealers. I think that if you want to go with a more lighter version, you\\'ll go with one of these two. \\nSource: e3hr3b7d8i2gdwi32tg-726 \\nContent: My color for this one is too neutral and for the Huda Beauty concealer, I\\'m wearing Nougat most of the times \\nSource: bjsdhfg2387ri2bejdw-892 \\nContent: I strongly recommend you the Makeup Forever HD skin as well. \\nSource: gdsfr67dgw238dy2jjd-562 \\n========= \\nFINAL ANSWER: The best eyeshadow is not explicitly mentioned in the provided content. But Ali Andreea discussed about a beautiful eyeshadow palette from Pat McGrath. \\nSOURCES: f0b3e5a2c7d4f8-246\\n\\n\\n\\n\\nQUESTION: What is the balanced diet one should folllow to stay healthy and fit? \\n========= \\nContent: Foundations. If primer had one product, how am I supposed to choose? \\nSource: vcjd2g3i7ydo2udhbhwh3-892 \\nContent: So let\\'s get into it with the very first product. \\nSource: fd563r62gbdhy123e39-023 \\nContent: Another product that I strongly recommend, if you guys are in the United States, take advantage of that and use this product, because it\\'s fantastic. \\nSource: 25368ed23u76e9ed2q-034 \\nContent: This is very glowy, but it can be a little bit too glowy for me. I could use this on clients. \\nSource: fgde732i6et2qhdb9809wd-267\\nContent: Are you guys ready? As usual, I\\'m going to do a split screen, which means you\\'re going to see me applying some of the products. \\nSource: dgkue6r83whg2d8283ede-902\\n========= \\nFINAL ANSWER: There is no information related to a balanced diet and its impact on staying healthy and fit in the provided documents. \\nSOURCES:\\n\\nQUESTION: List product mentioned by Andrea Ali\\n=========\\nContent: One product that I haven\\'t talked about and I should have talked about it at the beginning of the video,\\nSource: 0\\n\\nContent: And I\\'m also going to talk about each product that I think it\\'s worth a mention in this video.\\nSource: 1\\n\\nContent: The next product would be, of course, you heard me talk about this product so often.\\nSource: 2\\n\\nContent: This product I love, love, love.\\nSource: 3\\n\\nContent: I hope you enjoyed this video. If you have any questions about products or if you have any ideas about subjects you wouldn\\'t want me to touch in my videos, please let me know in the comments.\\nSource: 4\\n\\nContent: But if you guys are not sure, please check out my description box where you will have every single product linked along with the colors that correspond to my skin.\\nSource: 5\\n\\nContent: Are you going to stop talking about products so much?\\nSource: 6\\n\\nContent: They have amazing products, but by far my favorite would be this highlighter balm.\\nSource: 7\\n\\nContent: Another product that I have to mention this because I truly love it and I know that there are mixed feelings about this.\\nSource: 8\\n\\nContent: Another product that I think not a lot of people talk about is this Frec. It\\'s called Cheeks Slime.\\nSource: 9\\n=========\\nFINAL ANSWER:')]\n",
      "\n",
      "------------Results--------------\n",
      " {'question': 'List product mentioned by Andrea Ali', 'answer': 'The following products were mentioned by Andrea Ali:\\n\\n\\n\\n\\n\\n\\n\\n\\n\\n\\n\\n\\n\\n\\n\\n\\n\\n\\n\\n\\n\\n\\n\\n\\n\\n\\n\\n\\n\\n\\n\\n\\n\\n\\n\\n\\n\\n\\n\\n\\n\\n\\n\\n\\n\\n\\n\\n\\n\\n\\n\\n\\n\\n\\n\\n\\n\\n\\n\\n\\n\\n\\n\\n\\n\\n\\n\\n\\n\\n\\n\\n\\n\\n\\n\\n\\n\\n\\n\\n\\n\\n\\n\\n\\n\\n\\n\\n\\n\\n\\n\\n\\n\\n\\n\\n\\n\\n\\n\\n\\n\\n\\n\\n\\n\\n\\n\\n\\n\\n\\n\\n\\n\\n\\n\\n\\n\\n\\n\\n\\n\\n\\n\\n\\n\\n\\n\\n\\n\\n\\n\\n\\n\\n\\n\\n\\n\\n\\n\\n\\n\\n\\n\\n\\n\\n\\n\\n\\n\\n\\n\\n\\n\\n\\n\\n\\n\\n\\n\\n\\n\\n\\n\\n\\n\\n\\n\\n\\n\\n\\n\\n\\n\\n\\n\\n\\n\\n\\n\\n\\n\\n\\n\\n\\n\\n\\n\\n\\n\\n\\n\\n\\n\\n\\n\\n\\n\\n\\n\\n\\n\\n\\n\\n\\n\\n\\n\\n\\n\\n\\n\\n\\n\\n\\n\\n\\n\\n\\n\\n\\n\\n\\n\\n\\n\\n\\n\\n\\n\\n\\n\\n\\n\\n\\n\\n\\n\\n\\n\\n\\n\\n\\n\\n\\n\\n\\n', 'sources': '', 'source_documents': [Document(page_content=\"One product that I haven't talked about and I should have talked about it at the beginning of the video,\", metadata={'brandsMentioned': ['anastasia beverly hills', 'blend', 'blends', 'charlotte tilbury', 'cream', 'dior', 'givenchy', 'guess', 'hourglass', 'merit', 'rare beauty', 'saint laurent', 'tower 28', 'valentino'], 'creatorName': 'Ali Andreea', 'date': 1672577042000, 'srcInfo': {'creatorId': '63e648093e5488454d0244c2', 'srcCont': 63, 'srcVideo': '63e648093e5488454d0244c3', 'stats': {'comments': 755, 'dislikes': 0, 'likes': 10436, 'views': 230572}, 'thumbnail': 'https://i.ytimg.com/vi/AR8tpnjgrUE/default.jpg', 'url': 'https://www.youtube.com/watch?v=AR8tpnjgrUE'}, 'source': 0}), Document(page_content=\"And I'm also going to talk about each product that I think it's worth a mention in this video.\", metadata={'brandsMentioned': ['anastasia beverly hills', 'blend', 'blends', 'charlotte tilbury', 'cream', 'dior', 'givenchy', 'guess', 'hourglass', 'merit', 'rare beauty', 'saint laurent', 'tower 28', 'valentino'], 'creatorName': 'Ali Andreea', 'date': 1672577042000, 'srcInfo': {'creatorId': '63e648093e5488454d0244c2', 'srcCont': 3, 'srcVideo': '63e648093e5488454d0244c3', 'stats': {'comments': 755, 'dislikes': 0, 'likes': 10436, 'views': 230572}, 'thumbnail': 'https://i.ytimg.com/vi/AR8tpnjgrUE/default.jpg', 'url': 'https://www.youtube.com/watch?v=AR8tpnjgrUE'}, 'source': 1}), Document(page_content='The next product would be, of course, you heard me talk about this product so often.', metadata={'brandsMentioned': ['anastasia beverly hills', 'blend', 'blends', 'charlotte tilbury', 'cream', 'dior', 'givenchy', 'guess', 'hourglass', 'merit', 'rare beauty', 'saint laurent', 'tower 28', 'valentino'], 'creatorName': 'Ali Andreea', 'date': 1672577042000, 'srcInfo': {'creatorId': '63e648093e5488454d0244c2', 'srcCont': 209, 'srcVideo': '63e648093e5488454d0244c3', 'stats': {'comments': 755, 'dislikes': 0, 'likes': 10436, 'views': 230572}, 'thumbnail': 'https://i.ytimg.com/vi/AR8tpnjgrUE/default.jpg', 'url': 'https://www.youtube.com/watch?v=AR8tpnjgrUE'}, 'source': 2}), Document(page_content='This product I love, love, love.', metadata={'brandsMentioned': ['anastasia beverly hills', 'blend', 'blends', 'charlotte tilbury', 'cream', 'dior', 'givenchy', 'guess', 'hourglass', 'merit', 'rare beauty', 'saint laurent', 'tower 28', 'valentino'], 'creatorName': 'Ali Andreea', 'date': 1672577042000, 'srcInfo': {'creatorId': '63e648093e5488454d0244c2', 'srcCont': 80, 'srcVideo': '63e648093e5488454d0244c3', 'stats': {'comments': 755, 'dislikes': 0, 'likes': 10436, 'views': 230572}, 'thumbnail': 'https://i.ytimg.com/vi/AR8tpnjgrUE/default.jpg', 'url': 'https://www.youtube.com/watch?v=AR8tpnjgrUE'}, 'source': 3}), Document(page_content=\"I hope you enjoyed this video. If you have any questions about products or if you have any ideas about subjects you wouldn't want me to touch in my videos, please let me know in the comments.\", metadata={'brandsMentioned': ['anastasia beverly hills', 'blend', 'blends', 'charlotte tilbury', 'cream', 'dior', 'givenchy', 'guess', 'hourglass', 'merit', 'rare beauty', 'saint laurent', 'tower 28', 'valentino'], 'creatorName': 'Ali Andreea', 'date': 1672577042000, 'srcInfo': {'creatorId': '63e648093e5488454d0244c2', 'srcCont': 283, 'srcVideo': '63e648093e5488454d0244c3', 'stats': {'comments': 755, 'dislikes': 0, 'likes': 10436, 'views': 230572}, 'thumbnail': 'https://i.ytimg.com/vi/AR8tpnjgrUE/default.jpg', 'url': 'https://www.youtube.com/watch?v=AR8tpnjgrUE'}, 'source': 4}), Document(page_content='But if you guys are not sure, please check out my description box where you will have every single product linked along with the colors that correspond to my skin.', metadata={'brandsMentioned': ['anastasia beverly hills', 'blend', 'blends', 'charlotte tilbury', 'cream', 'dior', 'givenchy', 'guess', 'hourglass', 'merit', 'rare beauty', 'saint laurent', 'tower 28', 'valentino'], 'creatorName': 'Ali Andreea', 'date': 1672577042000, 'srcInfo': {'creatorId': '63e648093e5488454d0244c2', 'srcCont': 50, 'srcVideo': '63e648093e5488454d0244c3', 'stats': {'comments': 755, 'dislikes': 0, 'likes': 10436, 'views': 230572}, 'thumbnail': 'https://i.ytimg.com/vi/AR8tpnjgrUE/default.jpg', 'url': 'https://www.youtube.com/watch?v=AR8tpnjgrUE'}, 'source': 5}), Document(page_content='Are you going to stop talking about products so much?', metadata={'brandsMentioned': ['anastasia beverly hills', 'blend', 'blends', 'charlotte tilbury', 'cream', 'dior', 'givenchy', 'guess', 'hourglass', 'merit', 'rare beauty', 'saint laurent', 'tower 28', 'valentino'], 'creatorName': 'Ali Andreea', 'date': 1672577042000, 'srcInfo': {'creatorId': '63e648093e5488454d0244c2', 'srcCont': 126, 'srcVideo': '63e648093e5488454d0244c3', 'stats': {'comments': 755, 'dislikes': 0, 'likes': 10436, 'views': 230572}, 'thumbnail': 'https://i.ytimg.com/vi/AR8tpnjgrUE/default.jpg', 'url': 'https://www.youtube.com/watch?v=AR8tpnjgrUE'}, 'source': 6}), Document(page_content='They have amazing products, but by far my favorite would be this highlighter balm.', metadata={'brandsMentioned': ['anastasia beverly hills', 'blend', 'blends', 'charlotte tilbury', 'cream', 'dior', 'givenchy', 'guess', 'hourglass', 'merit', 'rare beauty', 'saint laurent', 'tower 28', 'valentino'], 'creatorName': 'Ali Andreea', 'date': 1672577042000, 'srcInfo': {'creatorId': '63e648093e5488454d0244c2', 'srcCont': 270, 'srcVideo': '63e648093e5488454d0244c3', 'stats': {'comments': 755, 'dislikes': 0, 'likes': 10436, 'views': 230572}, 'thumbnail': 'https://i.ytimg.com/vi/AR8tpnjgrUE/default.jpg', 'url': 'https://www.youtube.com/watch?v=AR8tpnjgrUE'}, 'source': 7}), Document(page_content='Another product that I have to mention this because I truly love it and I know that there are mixed feelings about this.', metadata={'brandsMentioned': ['anastasia beverly hills', 'blend', 'blends', 'charlotte tilbury', 'cream', 'dior', 'givenchy', 'guess', 'hourglass', 'merit', 'rare beauty', 'saint laurent', 'tower 28', 'valentino'], 'creatorName': 'Ali Andreea', 'date': 1672577042000, 'srcInfo': {'creatorId': '63e648093e5488454d0244c2', 'srcCont': 261, 'srcVideo': '63e648093e5488454d0244c3', 'stats': {'comments': 755, 'dislikes': 0, 'likes': 10436, 'views': 230572}, 'thumbnail': 'https://i.ytimg.com/vi/AR8tpnjgrUE/default.jpg', 'url': 'https://www.youtube.com/watch?v=AR8tpnjgrUE'}, 'source': 8}), Document(page_content=\"Another product that I think not a lot of people talk about is this Frec. It's called Cheeks Slime.\", metadata={'brandsMentioned': ['anastasia beverly hills', 'blend', 'blends', 'charlotte tilbury', 'cream', 'dior', 'givenchy', 'guess', 'hourglass', 'merit', 'rare beauty', 'saint laurent', 'tower 28', 'valentino'], 'creatorName': 'Ali Andreea', 'date': 1672577042000, 'srcInfo': {'creatorId': '63e648093e5488454d0244c2', 'srcCont': 121, 'srcVideo': '63e648093e5488454d0244c3', 'stats': {'comments': 755, 'dislikes': 0, 'likes': 10436, 'views': 230572}, 'thumbnail': 'https://i.ytimg.com/vi/AR8tpnjgrUE/default.jpg', 'url': 'https://www.youtube.com/watch?v=AR8tpnjgrUE'}, 'source': 9})]}\n"
     ]
    }
   ],
   "source": [
    "query_dic = {'question':query,\n",
    "            'docs':  docs}\n",
    "# print(query_dic)\n",
    "qa_src = QAWithSourcesChain.from_chain_type(llm=Open_ai_llm, chain_type=\"stuff\", return_source_documents = True)\n",
    "res = qa_src(query_dic)\n",
    "print(\"\\n------------Results--------------\\n\",res)"
   ]
  },
  {
   "cell_type": "markdown",
   "metadata": {},
   "source": [
    "### RetrievalQA"
   ]
  },
  {
   "cell_type": "code",
   "execution_count": 57,
   "metadata": {},
   "outputs": [
    {
     "name": "stdout",
     "output_type": "stream",
     "text": [
      "\n",
      "Prompts-----\n",
      " [StringPromptValue(text=\"Use the following pieces of context to answer the question at the end. If you don't know the answer, just say that you don't know, don't try to make up an answer.\\n\\nOne product that I haven't talked about and I should have talked about it at the beginning of the video,\\n\\nAnd I'm also going to talk about each product that I think it's worth a mention in this video.\\n\\nThe next product would be, of course, you heard me talk about this product so often.\\n\\nThis product I love, love, love.\\n\\nI hope you enjoyed this video. If you have any questions about products or if you have any ideas about subjects you wouldn't want me to touch in my videos, please let me know in the comments.\\n\\nBut if you guys are not sure, please check out my description box where you will have every single product linked along with the colors that correspond to my skin.\\n\\nAre you going to stop talking about products so much?\\n\\nThey have amazing products, but by far my favorite would be this highlighter balm.\\n\\nAnother product that I have to mention this because I truly love it and I know that there are mixed feelings about this.\\n\\nAnother product that I think not a lot of people talk about is this Frec. It's called Cheeks Slime.\\n\\nQuestion: List product mentioned by Andrea Ali\\nHelpful Answer:\")]\n",
      "\n",
      "\n",
      "---------Results from retrievalQA------->\n",
      "\n",
      " {'query': 'List product mentioned by Andrea Ali', 'result': 'Highlighter balm, Cheeks Slime'}\n"
     ]
    }
   ],
   "source": [
    "qa = RetrievalQA.from_chain_type(llm=Open_ai_llm, chain_type=\"stuff\", retriever=retriever)\n",
    "result=qa(query)\n",
    "print(\"\\n\\n---------Results from retrievalQA------->\\n\\n\",result)"
   ]
  },
  {
   "cell_type": "code",
   "execution_count": null,
   "metadata": {},
   "outputs": [],
   "source": []
  },
  {
   "cell_type": "code",
   "execution_count": null,
   "metadata": {},
   "outputs": [],
   "source": []
  }
 ],
 "metadata": {
  "kernelspec": {
   "display_name": ".venv",
   "language": "python",
   "name": "python3"
  },
  "language_info": {
   "codemirror_mode": {
    "name": "ipython",
    "version": 3
   },
   "file_extension": ".py",
   "mimetype": "text/x-python",
   "name": "python",
   "nbconvert_exporter": "python",
   "pygments_lexer": "ipython3",
   "version": "3.9.6"
  },
  "orig_nbformat": 4
 },
 "nbformat": 4,
 "nbformat_minor": 2
}
